{
 "cells": [
  {
   "cell_type": "code",
   "execution_count": null,
   "metadata": {},
   "outputs": [],
   "source": [
    "import cv2\n",
    "import numpy as np\n",
    "\n",
    "\n",
    "def Countour_detector(input_form = \"video\", path = \"\"):\n",
    "    if input_form == \"image\":\n",
    "        img = cv2.imread(path)\n",
    "        imgray = cv2.cvtColor(img, cv2.COLOR_BGR2GRAY)\n",
    "        _, thresh = cv2.threshold(imgray, 127, 255, 0)\n",
    "        contours, hierarchy = cv2.findContour(thresh, cv2.RETR_TREE, cv2.CHAIN_APPROX_NONE)\n",
    "        cv2.drawContours(img, contours, -1, (0, 255, 0), 3)\n",
    "        cv2.imshow('Image GRAY', imgray)  \n",
    "        cv2.imshow(\"Image\", img)\n",
    "        cv2.waitKey(0)\n",
    "        cv2.destroyAllWindows()    \n",
    "        \n",
    "    if input_form == \"video\":\n",
    "        if path == \"\":\n",
    "            cap = cv2.VideoCapture(0)\n",
    "        if path != \"\":\n",
    "            cap = cv2.VideoCapture(path)\n",
    "        while(cap.isOpened()):\n",
    "            ret, img = cap.read()\n",
    "            if ret == True:\n",
    "                imgray = cv2.cvtColor(img, cv2.COLOR_BGR2GRAY)\n",
    "                _, thresh = cv2.threshold(imgray, 127, 255, 0)\n",
    "                _,contours, hierarchy = cv2.findContours(thresh, cv2.RETR_TREE, cv2.CHAIN_APPROX_NONE)\n",
    "                cv2.drawContours(img, contours, -1, (0, 255, 0), 3)\n",
    "                cv2.imshow('Image GRAY', imgray)  \n",
    "                cv2.imshow(\"Image\", img)\n",
    "                if cv2.waitKey(1) & 0xff == ord('q'):\n",
    "                    break\n",
    "            else:\n",
    "                break\n",
    "    cap.release()\n",
    "    cv2.destroyAllWindows() "
   ]
  },
  {
   "cell_type": "code",
   "execution_count": null,
   "metadata": {},
   "outputs": [],
   "source": [
    "Countour_detector()"
   ]
  }
 ],
 "metadata": {
  "kernelspec": {
   "display_name": "Python 3",
   "language": "python",
   "name": "python3"
  },
  "language_info": {
   "codemirror_mode": {
    "name": "ipython",
    "version": 3
   },
   "file_extension": ".py",
   "mimetype": "text/x-python",
   "name": "python",
   "nbconvert_exporter": "python",
   "pygments_lexer": "ipython3",
   "version": "3.6.5"
  }
 },
 "nbformat": 4,
 "nbformat_minor": 2
}
