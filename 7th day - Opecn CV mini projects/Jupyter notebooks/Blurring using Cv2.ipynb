{
 "cells": [
  {
   "cell_type": "markdown",
   "metadata": {},
   "source": [
    "# Different types of blurring using cv2"
   ]
  },
  {
   "cell_type": "code",
   "execution_count": 1,
   "metadata": {},
   "outputs": [],
   "source": [
    "import cv2\n",
    "import numpy as np\n",
    "def Blur_fun(kernel = None,input_form = \"video\", path = \"\", operation = \"meadianBlur\", mode = \"rbg\"):\n",
    "    if input_form == \"image\":\n",
    "        img = cv2.imread(path)\n",
    "        if mode == \"gray\":\n",
    "            img = cv2.cvtColor(img, cv2.COLOR_BGR2GRAY)\n",
    "        if operation == \"custom\":\n",
    "            img = cv2.filter2D(img, -1, kernel)\n",
    "        if operation == \"blur\":    \n",
    "            img = cv2.blur(img, (5,5))\n",
    "        if operation  == \"GaussianBlur\":    \n",
    "            img = cv2.GaussianBlur(img, (5,5), 0)\n",
    "        if operation  == \"meadianBlur\":    \n",
    "            img = cv2.meadianBlur(img, 5)\n",
    "        if operation  == \"bilateralFilter\":    \n",
    "            img = cv2.bilateralFilter(img, 9, 75, 75)   \n",
    "        cv2.imshow(\"Image\", img)\n",
    "        cv2.waitKey(0)\n",
    "        cv2.destroyAllWindows()    \n",
    "        \n",
    "    if input_form == \"video\":\n",
    "        if path == \"\":\n",
    "            cap = cv2.VideoCapture(0)\n",
    "        if path != \"\":\n",
    "            cap = cv2.VideoCapture(path)\n",
    "        while(cap.isOpened()):\n",
    "            ret, img = cap.read()\n",
    "            if ret == True:\n",
    "                if mode == \"gray\":\n",
    "                    img = cv2.cvtColor(img, cv2.COLOR_BGR2GRAY)\n",
    "                if operation == \"custom\":\n",
    "                    img = cv2.filter2D(img, -1, kernel)\n",
    "                if operation == \"blur\":    \n",
    "                    img = cv2.blur(img, (5,5))\n",
    "                if operation  == \"GaussianBlur\":    \n",
    "                    img = cv2.GaussianBlur(img, (5,5), 0)\n",
    "                if operation  == \"meadianBlur\":    \n",
    "                    img = cv2.medianBlur(img, 5)\n",
    "                if operation  == \"bilateralFilter\":    \n",
    "                    img = cv2.bilateralFilter(img, 9, 75, 75) \n",
    "                cv2.imshow('frame', img)    \n",
    "                if cv2.waitKey(1) & 0xff == ord('q'):\n",
    "                    break\n",
    "            else:\n",
    "                break\n",
    "    cap.release()\n",
    "    cv2.destroyAllWindows()  "
   ]
  },
  {
   "cell_type": "code",
   "execution_count": 2,
   "metadata": {},
   "outputs": [],
   "source": [
    "kernel = np.ones((5,5), np.float32)/25\n",
    "Blur_fun(kernel)"
   ]
  }
 ],
 "metadata": {
  "kernelspec": {
   "display_name": "Python 3",
   "language": "python",
   "name": "python3"
  },
  "language_info": {
   "codemirror_mode": {
    "name": "ipython",
    "version": 3
   },
   "file_extension": ".py",
   "mimetype": "text/x-python",
   "name": "python",
   "nbconvert_exporter": "python",
   "pygments_lexer": "ipython3",
   "version": "3.6.5"
  }
 },
 "nbformat": 4,
 "nbformat_minor": 2
}
