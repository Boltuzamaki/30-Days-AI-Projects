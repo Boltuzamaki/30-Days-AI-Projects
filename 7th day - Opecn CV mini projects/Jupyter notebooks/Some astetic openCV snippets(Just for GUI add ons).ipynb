{
 "cells": [
  {
   "cell_type": "code",
   "execution_count": null,
   "metadata": {},
   "outputs": [],
   "source": [
    "import cv2\n",
    "import time"
   ]
  },
  {
   "cell_type": "code",
   "execution_count": null,
   "metadata": {},
   "outputs": [],
   "source": [
    "# Draw in cv2\n",
    "import cv2\n",
    "img = cv2.imread('ura.jpg',1)\n",
    "img = cv2.line(img, (0,0), (255,255), (147,96,44), 10)\n",
    "img = cv2.arrowedLine(img , (0,255), (255,255), (255, 0, 0), 10)\n",
    "img = cv2.rectangle(img, (384, 0 ), (510, 128), (0, 0, 255), 10)\n",
    "img = cv2.circle(img, (447, 63), 63, (0,255,0), -1)\n",
    "cv2.imshow('image', img)\n",
    "cv2.waitKey(0)\n",
    "cv2.destroyAllWindows()"
   ]
  },
  {
   "cell_type": "code",
   "execution_count": null,
   "metadata": {},
   "outputs": [],
   "source": [
    "# put Text in image\n",
    "img = cv2.imread('ura.jpg', 1)\n",
    "font = cv2.FONT_HERSHEY_SIMPLEX\n",
    "img = cv2.putText(img, 'Open CV', (10, 500), font, 4 ,(0,255,255), 10, cv2.LINE_AA)\n",
    "cv2.imshow('image', img)\n",
    "cv2.waitKey(0)\n",
    "cv2.destroyAllWindows()"
   ]
  },
  {
   "cell_type": "code",
   "execution_count": null,
   "metadata": {},
   "outputs": [],
   "source": [
    "# Adding trackbar using Open CV\n",
    "\n",
    "import numpy as np\n",
    "import cv2 \n",
    "def call(x):\n",
    "    print(x)\n",
    "\n",
    "# Create a black image, a window\n",
    "\n",
    "img = np.zeros((300, 512,3), np.uint8)\n",
    "cv2.namedWindow('image')\n",
    "\n",
    "cv2.createTrackbar('B', 'image', 0, 255, call)\n",
    "cv2.createTrackbar('G', 'image', 0, 255, call)\n",
    "cv2.createTrackbar('R', 'image', 0, 255, call)\n",
    "\n",
    "while(1):\n",
    "    cv2.imshow('image', img)\n",
    "    k = cv2.waitKey(1) & 0xFF\n",
    "    \n",
    "    b = cv2.getTrackbarPos(\"B\",\"image\")\n",
    "    g = cv2.getTrackbarPos(\"G\", \"image\")\n",
    "    r = cv2.getTrackbarPos(\"R\",'image')\n",
    "    \n",
    "    img[:] = [b, g , r]\n",
    "    if k == 27:\n",
    "        break\n",
    "        \n",
    "cv2.destroyAllWindows()       "
   ]
  },
  {
   "cell_type": "code",
   "execution_count": null,
   "metadata": {},
   "outputs": [],
   "source": []
  },
  {
   "cell_type": "code",
   "execution_count": null,
   "metadata": {},
   "outputs": [],
   "source": [
    "import cv2\n",
    "import numpy as np\n",
    "\n",
    "\n",
    "def Countour_detector(input_form = \"video\", path = \"\"):\n",
    "    if input_form == \"image\":\n",
    "        img = cv2.imread(path)\n",
    "        imgray = cv2.cvtColor(img, cv2.COLOR_BGR2GRAY)\n",
    "        _, thresh = cv2.threshold(imgray, 127, 255, 0)\n",
    "        contours, hierarchy = cv2.findContour(thresh, cv2.RETR_TREE, cv2.CHAIN_APPROX_NONE)\n",
    "        cv2.drawContours(img, contours, -1, (0, 255, 0), 3)\n",
    "        cv2.imshow('Image GRAY', imgray)  \n",
    "        cv2.imshow(\"Image\", img)\n",
    "        cv2.waitKey(0)\n",
    "        cv2.destroyAllWindows()    \n",
    "        \n",
    "    if input_form == \"video\":\n",
    "        if path == \"\":\n",
    "            cap = cv2.VideoCapture(0)\n",
    "        if path != \"\":\n",
    "            cap = cv2.VideoCapture(path)\n",
    "        while(cap.isOpened()):\n",
    "            ret, img = cap.read()\n",
    "            if ret == True:\n",
    "                imgray = cv2.cvtColor(img, cv2.COLOR_BGR2GRAY)\n",
    "                _, thresh = cv2.threshold(imgray, 127, 255, 0)\n",
    "                _,contours, hierarchy = cv2.findContours(thresh, cv2.RETR_TREE, cv2.CHAIN_APPROX_NONE)\n",
    "                cv2.drawContours(img, contours, -1, (0, 255, 0), 3)\n",
    "                cv2.imshow('Image GRAY', imgray)  \n",
    "                cv2.imshow(\"Image\", img)\n",
    "                if cv2.waitKey(1) & 0xff == ord('q'):\n",
    "                    break\n",
    "            else:\n",
    "                break\n",
    "    cap.release()\n",
    "    cv2.destroyAllWindows() "
   ]
  },
  {
   "cell_type": "code",
   "execution_count": null,
   "metadata": {},
   "outputs": [],
   "source": [
    "Countour_detector()"
   ]
  }
 ],
 "metadata": {
  "kernelspec": {
   "display_name": "Python 3",
   "language": "python",
   "name": "python3"
  },
  "language_info": {
   "codemirror_mode": {
    "name": "ipython",
    "version": 3
   },
   "file_extension": ".py",
   "mimetype": "text/x-python",
   "name": "python",
   "nbconvert_exporter": "python",
   "pygments_lexer": "ipython3",
   "version": "3.6.5"
  }
 },
 "nbformat": 4,
 "nbformat_minor": 2
}
