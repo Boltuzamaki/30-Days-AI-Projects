{
 "cells": [
  {
   "cell_type": "markdown",
   "metadata": {},
   "source": [
    "# Thresholding on photo and video in real time"
   ]
  },
  {
   "cell_type": "code",
   "execution_count": null,
   "metadata": {},
   "outputs": [],
   "source": [
    "import cv2\n",
    "import numpy as np\n",
    "\n",
    "\n",
    "def Thresholding_func(input_form = \"video\", path = \"\", operation = \"adaptive_gaussian\", mode = \"gray\"):\n",
    "    if input_form == \"image\":\n",
    "        img = cv2.imread(path)\n",
    "        if mode == \"gray\":\n",
    "            img = cv2.cvtColor(img, cv2.COLOR_BGR2GRAY)\n",
    "        if operation == \"normal\":\n",
    "            _, img  = cv2.threshold(img, 127 , 255, cv2.THRESH_BINARY)\n",
    "        if operation == \"adaptive_mean\":    \n",
    "            img = cv2.adaptiveThreshold(img, 255, cv2.ADAPTIVE_THRESH_MEAN_C, cv2.THRESH_BINARY, 11, 2)\n",
    "        if operation  == \"adaptive_gaussian\":    \n",
    "            img = cv2.adaptiveThreshold(img, 255, cv2.ADAPTIVE_THRESH_GAUSSIAN_C, cv2.THRESH_BINARY, 11, 2)\n",
    "        cv2.imshow(\"Image\", img)\n",
    "        cv2.waitKey(0)\n",
    "        cv2.destroyAllWindows()        \n",
    "    if input_form == \"video\":\n",
    "        if path == \"\":\n",
    "            cap = cv2.VideoCapture(0)\n",
    "        if path != \"\":\n",
    "            cap = cv2.VideoCapture(path)\n",
    "        while(cap.isOpened()):\n",
    "            ret, img = cap.read()\n",
    "            if ret == True:\n",
    "                if mode == \"gray\":\n",
    "                    img = cv2.cvtColor(img, cv2.COLOR_BGR2GRAY)\n",
    "                if operation == \"normal\":\n",
    "                    _, img  = cv2.threshold(img, 100 , 255, cv2.THRESH_BINARY)\n",
    "                if operation == \"adaptive_mean\":    \n",
    "                    img = cv2.adaptiveThreshold(img, 255, cv2.ADAPTIVE_THRESH_MEAN_C, cv2.THRESH_BINARY, 11, 2)\n",
    "                if operation  == \"adaptive_gaussian\":   \n",
    "                    img = cv2.adaptiveThreshold(img, 255, cv2.ADAPTIVE_THRESH_GAUSSIAN_C, cv2.THRESH_BINARY, 11, 2)\n",
    "                cv2.imshow('frame', img)    \n",
    "                if cv2.waitKey(1) & 0xff == ord('q'):\n",
    "                    break\n",
    "            else:\n",
    "                break\n",
    "    cap.release()\n",
    "    cv2.destroyAllWindows()  \n",
    "    \n",
    "Thresholding_func()    "
   ]
  },
  {
   "cell_type": "code",
   "execution_count": null,
   "metadata": {},
   "outputs": [],
   "source": [
    "# You can try to make thresholding on RGB -- THreshold on different channel and join the result"
   ]
  }
 ],
 "metadata": {
  "kernelspec": {
   "display_name": "Python 3",
   "language": "python",
   "name": "python3"
  },
  "language_info": {
   "codemirror_mode": {
    "name": "ipython",
    "version": 3
   },
   "file_extension": ".py",
   "mimetype": "text/x-python",
   "name": "python",
   "nbconvert_exporter": "python",
   "pygments_lexer": "ipython3",
   "version": "3.6.5"
  }
 },
 "nbformat": 4,
 "nbformat_minor": 2
}
