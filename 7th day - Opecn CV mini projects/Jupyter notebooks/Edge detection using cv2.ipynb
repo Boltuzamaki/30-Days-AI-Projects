{
 "cells": [
  {
   "cell_type": "code",
   "execution_count": 5,
   "metadata": {},
   "outputs": [],
   "source": [
    "import cv2\n",
    "import numpy as np\n",
    "\n",
    "def Edge_detector(input_form = \"video\", path = \"\", operation = \"canny\", mode = \"gray\"):\n",
    "    if input_form == \"image\":\n",
    "        img = cv2.imread(path)\n",
    "        if mode == \"gray\":\n",
    "            img = cv2.cvtColor(img, cv2.COLOR_BGR2GRAY)\n",
    "        if operation == \"laplacian\":\n",
    "            img = cv2.Laplacian(img, cv2.CV_64F, ksize  =3)\n",
    "            img = np.uint8(np.absolute(img))\n",
    "        if operation == \"sobelx\":    \n",
    "            img = cv2.Sobel(img, cv2.CV_64F, 1 , 0)\n",
    "        if operation  == \"sobely\":    \n",
    "            img = cv2.Sobel(img, cv2.CV_64F, 0, 1)\n",
    "        if operation  == \"canny\":    \n",
    "            img = cv2.Canny(img, 100, 200)\n",
    "        cv2.imshow(\"Image\", img)\n",
    "        cv2.waitKey(0)\n",
    "        cv2.destroyAllWindows()    \n",
    "        \n",
    "    if input_form == \"video\":\n",
    "        if path == \"\":\n",
    "            cap = cv2.VideoCapture(0)\n",
    "        if path != \"\":\n",
    "            cap = cv2.VideoCapture(path)\n",
    "        while(cap.isOpened()):\n",
    "            ret, img = cap.read()\n",
    "            if ret == True:\n",
    "                if mode == \"gray\":\n",
    "                    img = cv2.cvtColor(img, cv2.COLOR_BGR2GRAY)\n",
    "                if operation == \"laplacian\":\n",
    "                    img = cv2.Laplacian(img, cv2.CV_64F, ksize  =3)\n",
    "                    img = np.uint8(np.absolute(img))\n",
    "                if operation == \"sobelx\":    \n",
    "                    img = cv2.Sobel(img, cv2.CV_64F, 1 , 0)\n",
    "                if operation  == \"sobely\":    \n",
    "                    img = cv2.Sobel(img, cv2.CV_64F, 0, 1)\n",
    "                if operation  == \"canny\":    \n",
    "                    img = cv2.Canny(img, 100, 200)\n",
    "                cv2.imshow('frame', img)    \n",
    "                if cv2.waitKey(1) & 0xff == ord('q'):\n",
    "                    break\n",
    "            else:\n",
    "                break\n",
    "    cap.release()\n",
    "    cv2.destroyAllWindows() "
   ]
  },
  {
   "cell_type": "code",
   "execution_count": 6,
   "metadata": {},
   "outputs": [],
   "source": [
    "Edge_detector()"
   ]
  },
  {
   "cell_type": "code",
   "execution_count": null,
   "metadata": {},
   "outputs": [],
   "source": []
  }
 ],
 "metadata": {
  "kernelspec": {
   "display_name": "Python 3",
   "language": "python",
   "name": "python3"
  },
  "language_info": {
   "codemirror_mode": {
    "name": "ipython",
    "version": 3
   },
   "file_extension": ".py",
   "mimetype": "text/x-python",
   "name": "python",
   "nbconvert_exporter": "python",
   "pygments_lexer": "ipython3",
   "version": "3.6.5"
  }
 },
 "nbformat": 4,
 "nbformat_minor": 2
}
