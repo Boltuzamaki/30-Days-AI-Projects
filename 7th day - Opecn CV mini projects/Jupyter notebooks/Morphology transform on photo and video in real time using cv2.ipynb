{
 "cells": [
  {
   "cell_type": "markdown",
   "metadata": {},
   "source": [
    "# Morphology transform on photo and video in real time"
   ]
  },
  {
   "cell_type": "code",
   "execution_count": null,
   "metadata": {},
   "outputs": [],
   "source": [
    "import cv2\n",
    "import numpy as np\n",
    "def Morphology_transform(input_form = \"video\", path = \"\", operation = \"closing\", mode = \"gray\"):\n",
    "    if input_form == \"image\":\n",
    "        img = cv2.imread(path)\n",
    "        if mode == \"gray\":\n",
    "            img = cv2.cvtColor(img, cv2.COLOR_BGR2GRAY)\n",
    "        _, mask = cv2.threshold(img, 155, 255, cv2.THRESH_BINARY_INV)\n",
    "        kernal = np.ones((5, 5), np.uint8)\n",
    "        if operation == \"dilation\":\n",
    "            img =cv2.dilate(mask, kernal, iterations = 2)\n",
    "        if operation == \"erosion\":    \n",
    "            img = cv2.erode(mask, kernel, iterations = 1)\n",
    "        if operation  == \"opening\":    \n",
    "            img = cv2.morphologyEx(mask, cv2.MORPH_OPEN, kernal)\n",
    "        if operation == \"closing\":    \n",
    "            img = cv2.morphologyEx(mask, cv2.MORPH_CLOSE, kernal)\n",
    "        cv2.imshow(\"Image\", img)\n",
    "        cv2.waitKey(0)\n",
    "        cv2.destroyAllWindows()        \n",
    "    if input_form == \"video\":\n",
    "        if path == \"\":\n",
    "            cap = cv2.VideoCapture(0)\n",
    "        if path != \"\":\n",
    "            cap = cv2.VideoCapture(path)\n",
    "        while(cap.isOpened()):\n",
    "            ret, img = cap.read()\n",
    "            if ret == True:\n",
    "                if mode == \"gray\":\n",
    "                    img = cv2.cvtColor(img, cv2.COLOR_BGR2GRAY)\n",
    "                _, mask = cv2.threshold(img, 200, 255, cv2.THRESH_BINARY_INV)\n",
    "                kernal = np.ones((5, 5), np.uint8)\n",
    "                if operation == \"dilation\":\n",
    "                    img =cv2.dilate(mask, kernal, iterations = 2)\n",
    "                if operation == \"erosion\":    \n",
    "                    img = cv2.erode(mask, kernel, iterations = 1)\n",
    "                if operation  == \"opening\":    \n",
    "                    img = cv2.morphologyEx(mask, cv2.MORPH_OPEN, kernal)\n",
    "                if operation == \"closing\":    \n",
    "                    img = cv2.morphologyEx(mask, cv2.MORPH_CLOSE, kernal)  \n",
    "                cv2.imshow('frame', img)    \n",
    "                if cv2.waitKey(1) & 0xff == ord('q'):\n",
    "                    break\n",
    "            else:\n",
    "                break\n",
    "    cap.release()\n",
    "    cv2.destroyAllWindows()     "
   ]
  },
  {
   "cell_type": "code",
   "execution_count": null,
   "metadata": {},
   "outputs": [],
   "source": [
    "Morphology_transform()   "
   ]
  }
 ],
 "metadata": {
  "kernelspec": {
   "display_name": "Python 3",
   "language": "python",
   "name": "python3"
  },
  "language_info": {
   "codemirror_mode": {
    "name": "ipython",
    "version": 3
   },
   "file_extension": ".py",
   "mimetype": "text/x-python",
   "name": "python",
   "nbconvert_exporter": "python",
   "pygments_lexer": "ipython3",
   "version": "3.6.5"
  }
 },
 "nbformat": 4,
 "nbformat_minor": 2
}
