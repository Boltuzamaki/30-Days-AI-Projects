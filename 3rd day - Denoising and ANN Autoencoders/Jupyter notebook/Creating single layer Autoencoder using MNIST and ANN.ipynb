{
 "cells": [
  {
   "cell_type": "markdown",
   "metadata": {},
   "source": [
    "#  Creating single layer Autoencoder using MNIST and ANN"
   ]
  },
  {
   "cell_type": "code",
   "execution_count": 1,
   "metadata": {},
   "outputs": [
    {
     "name": "stderr",
     "output_type": "stream",
     "text": [
      "Using TensorFlow backend.\n",
      "c:\\users\\boltuzamaki\\anaconda3\\envs\\pose\\lib\\site-packages\\tensorflow\\python\\framework\\dtypes.py:523: FutureWarning: Passing (type, 1) or '1type' as a synonym of type is deprecated; in a future version of numpy, it will be understood as (type, (1,)) / '(1,)type'.\n",
      "  _np_qint8 = np.dtype([(\"qint8\", np.int8, 1)])\n",
      "c:\\users\\boltuzamaki\\anaconda3\\envs\\pose\\lib\\site-packages\\tensorflow\\python\\framework\\dtypes.py:524: FutureWarning: Passing (type, 1) or '1type' as a synonym of type is deprecated; in a future version of numpy, it will be understood as (type, (1,)) / '(1,)type'.\n",
      "  _np_quint8 = np.dtype([(\"quint8\", np.uint8, 1)])\n",
      "c:\\users\\boltuzamaki\\anaconda3\\envs\\pose\\lib\\site-packages\\tensorflow\\python\\framework\\dtypes.py:525: FutureWarning: Passing (type, 1) or '1type' as a synonym of type is deprecated; in a future version of numpy, it will be understood as (type, (1,)) / '(1,)type'.\n",
      "  _np_qint16 = np.dtype([(\"qint16\", np.int16, 1)])\n",
      "c:\\users\\boltuzamaki\\anaconda3\\envs\\pose\\lib\\site-packages\\tensorflow\\python\\framework\\dtypes.py:526: FutureWarning: Passing (type, 1) or '1type' as a synonym of type is deprecated; in a future version of numpy, it will be understood as (type, (1,)) / '(1,)type'.\n",
      "  _np_quint16 = np.dtype([(\"quint16\", np.uint16, 1)])\n",
      "c:\\users\\boltuzamaki\\anaconda3\\envs\\pose\\lib\\site-packages\\tensorflow\\python\\framework\\dtypes.py:527: FutureWarning: Passing (type, 1) or '1type' as a synonym of type is deprecated; in a future version of numpy, it will be understood as (type, (1,)) / '(1,)type'.\n",
      "  _np_qint32 = np.dtype([(\"qint32\", np.int32, 1)])\n",
      "c:\\users\\boltuzamaki\\anaconda3\\envs\\pose\\lib\\site-packages\\tensorflow\\python\\framework\\dtypes.py:532: FutureWarning: Passing (type, 1) or '1type' as a synonym of type is deprecated; in a future version of numpy, it will be understood as (type, (1,)) / '(1,)type'.\n",
      "  np_resource = np.dtype([(\"resource\", np.ubyte, 1)])\n"
     ]
    }
   ],
   "source": [
    "from keras.datasets import mnist\n",
    "from keras.layers import Input, Dense\n",
    "from keras.models import Model\n",
    "import tensorflow as tf\n",
    "import keras\n",
    "import numpy as np\n",
    "import matplotlib.pyplot as plt\n",
    "import pandas as pd\n",
    "\n",
    "%matplotlib inline"
   ]
  },
  {
   "cell_type": "code",
   "execution_count": 2,
   "metadata": {},
   "outputs": [
    {
     "name": "stdout",
     "output_type": "stream",
     "text": [
      "(60000, 784)\n",
      "(10000, 784)\n"
     ]
    }
   ],
   "source": [
    "# Preprocessing/ reshaping input images\n",
    "\n",
    "(X_train, _), (X_test, _) = mnist.load_data()                        # Loading data from mnist\n",
    "\n",
    "X_train = X_train.astype('float32')/255                              # normalizing the data for fast training\n",
    "X_test = X_test.astype('float32')/255\n",
    "\n",
    "X_train = X_train.reshape(len(X_train), np.prod(X_train.shape[1:]))  # Reshape to flat from 2-D image array     \n",
    "X_test = X_test.reshape(len(X_test), np.prod(X_test.shape[1:]))\n",
    "\n",
    "print(X_train.shape)\n",
    "print(X_test.shape)"
   ]
  },
  {
   "cell_type": "code",
   "execution_count": 3,
   "metadata": {},
   "outputs": [
    {
     "data": {
      "text/plain": [
       "TensorShape([Dimension(None), Dimension(784)])"
      ]
     },
     "execution_count": 3,
     "metadata": {},
     "output_type": "execute_result"
    }
   ],
   "source": [
    "input_img= Input(shape=(784,))     # Converting to input image into keras tensor\n",
    "input_img.shape"
   ]
  },
  {
   "cell_type": "code",
   "execution_count": 4,
   "metadata": {},
   "outputs": [],
   "source": [
    "encoded = Dense(units = 32, activation = 'relu')(input_img)              # Encoder layer"
   ]
  },
  {
   "cell_type": "code",
   "execution_count": 5,
   "metadata": {},
   "outputs": [],
   "source": [
    "decoded = Dense(units= 784, activation = 'sigmoid')(encoded)             # Decoder layer"
   ]
  },
  {
   "cell_type": "code",
   "execution_count": 6,
   "metadata": {},
   "outputs": [],
   "source": [
    "autoencoder = Model(input_img, decoded)                     # Creating autoencoder which is made of encoder and decoder"
   ]
  },
  {
   "cell_type": "code",
   "execution_count": 7,
   "metadata": {},
   "outputs": [
    {
     "name": "stdout",
     "output_type": "stream",
     "text": [
      "_________________________________________________________________\n",
      "Layer (type)                 Output Shape              Param #   \n",
      "=================================================================\n",
      "input_1 (InputLayer)         (None, 784)               0         \n",
      "_________________________________________________________________\n",
      "dense_1 (Dense)              (None, 32)                25120     \n",
      "_________________________________________________________________\n",
      "dense_2 (Dense)              (None, 784)               25872     \n",
      "=================================================================\n",
      "Total params: 50,992\n",
      "Trainable params: 50,992\n",
      "Non-trainable params: 0\n",
      "_________________________________________________________________\n"
     ]
    }
   ],
   "source": [
    "autoencoder.summary()  "
   ]
  },
  {
   "cell_type": "code",
   "execution_count": 8,
   "metadata": {},
   "outputs": [],
   "source": [
    "encoder = Model(input_img, encoded)                       # Creating autoencoder only"
   ]
  },
  {
   "cell_type": "code",
   "execution_count": 9,
   "metadata": {},
   "outputs": [
    {
     "name": "stdout",
     "output_type": "stream",
     "text": [
      "_________________________________________________________________\n",
      "Layer (type)                 Output Shape              Param #   \n",
      "=================================================================\n",
      "input_1 (InputLayer)         (None, 784)               0         \n",
      "_________________________________________________________________\n",
      "dense_1 (Dense)              (None, 32)                25120     \n",
      "=================================================================\n",
      "Total params: 25,120\n",
      "Trainable params: 25,120\n",
      "Non-trainable params: 0\n",
      "_________________________________________________________________\n"
     ]
    }
   ],
   "source": [
    "encoder.summary()"
   ]
  },
  {
   "cell_type": "code",
   "execution_count": 10,
   "metadata": {},
   "outputs": [],
   "source": [
    "encoded_input = Input(shape=(32,))                        # All image is compressed into size 32 latent vector"
   ]
  },
  {
   "cell_type": "code",
   "execution_count": 11,
   "metadata": {},
   "outputs": [],
   "source": [
    "decoder_layer = autoencoder.layers[-1]                    # Creting decoder layer "
   ]
  },
  {
   "cell_type": "code",
   "execution_count": 12,
   "metadata": {},
   "outputs": [],
   "source": [
    "# create the decoder model\n",
    "decoder = Model(encoded_input, decoder_layer(encoded_input))"
   ]
  },
  {
   "cell_type": "code",
   "execution_count": 13,
   "metadata": {},
   "outputs": [
    {
     "name": "stdout",
     "output_type": "stream",
     "text": [
      "_________________________________________________________________\n",
      "Layer (type)                 Output Shape              Param #   \n",
      "=================================================================\n",
      "input_2 (InputLayer)         (None, 32)                0         \n",
      "_________________________________________________________________\n",
      "dense_2 (Dense)              (None, 784)               25872     \n",
      "=================================================================\n",
      "Total params: 25,872\n",
      "Trainable params: 25,872\n",
      "Non-trainable params: 0\n",
      "_________________________________________________________________\n"
     ]
    }
   ],
   "source": [
    "decoder.summary()"
   ]
  },
  {
   "cell_type": "code",
   "execution_count": 14,
   "metadata": {},
   "outputs": [
    {
     "name": "stdout",
     "output_type": "stream",
     "text": [
      "Train on 60000 samples, validate on 10000 samples\n",
      "Epoch 1/50\n",
      "60000/60000 [==============================] - 40s 670us/step - loss: 0.3593 - acc: 0.7528 - val_loss: 0.2709 - val_acc: 0.7942\n",
      "Epoch 2/50\n",
      "60000/60000 [==============================] - 1s 18us/step - loss: 0.2631 - acc: 0.7979 - val_loss: 0.2515 - val_acc: 0.7979\n",
      "Epoch 3/50\n",
      "60000/60000 [==============================] - 1s 18us/step - loss: 0.2414 - acc: 0.7974 - val_loss: 0.2295 - val_acc: 0.7958\n",
      "Epoch 4/50\n",
      "60000/60000 [==============================] - 1s 22us/step - loss: 0.2224 - acc: 0.7972 - val_loss: 0.2127 - val_acc: 0.7962\n",
      "Epoch 5/50\n",
      "60000/60000 [==============================] - 1s 19us/step - loss: 0.2076 - acc: 0.7984 - val_loss: 0.2000 - val_acc: 0.7988\n",
      "Epoch 6/50\n",
      "60000/60000 [==============================] - 1s 20us/step - loss: 0.1965 - acc: 0.7996 - val_loss: 0.1904 - val_acc: 0.7998\n",
      "Epoch 7/50\n",
      "60000/60000 [==============================] - 1s 22us/step - loss: 0.1879 - acc: 0.8007 - val_loss: 0.1827 - val_acc: 0.8008\n",
      "Epoch 8/50\n",
      "60000/60000 [==============================] - 1s 20us/step - loss: 0.1808 - acc: 0.8019 - val_loss: 0.1761 - val_acc: 0.8017\n",
      "Epoch 9/50\n",
      "60000/60000 [==============================] - 1s 19us/step - loss: 0.1746 - acc: 0.8029 - val_loss: 0.1704 - val_acc: 0.8027\n",
      "Epoch 10/50\n",
      "60000/60000 [==============================] - 1s 18us/step - loss: 0.1693 - acc: 0.8038 - val_loss: 0.1656 - val_acc: 0.8038\n",
      "Epoch 11/50\n",
      "60000/60000 [==============================] - 1s 19us/step - loss: 0.1647 - acc: 0.8046 - val_loss: 0.1613 - val_acc: 0.8045\n",
      "Epoch 12/50\n",
      "60000/60000 [==============================] - 1s 19us/step - loss: 0.1607 - acc: 0.8052 - val_loss: 0.1575 - val_acc: 0.8054\n",
      "Epoch 13/50\n",
      "60000/60000 [==============================] - 1s 19us/step - loss: 0.1570 - acc: 0.8059 - val_loss: 0.1539 - val_acc: 0.8057\n",
      "Epoch 14/50\n",
      "60000/60000 [==============================] - 1s 19us/step - loss: 0.1536 - acc: 0.8064 - val_loss: 0.1506 - val_acc: 0.8062\n",
      "Epoch 15/50\n",
      "60000/60000 [==============================] - 1s 19us/step - loss: 0.1505 - acc: 0.8069 - val_loss: 0.1476 - val_acc: 0.8063\n",
      "Epoch 16/50\n",
      "60000/60000 [==============================] - 1s 18us/step - loss: 0.1477 - acc: 0.8074 - val_loss: 0.1448 - val_acc: 0.8068\n",
      "Epoch 17/50\n",
      "60000/60000 [==============================] - 1s 20us/step - loss: 0.1450 - acc: 0.8079 - val_loss: 0.1423 - val_acc: 0.8074\n",
      "Epoch 18/50\n",
      "60000/60000 [==============================] - 1s 19us/step - loss: 0.1425 - acc: 0.8083 - val_loss: 0.1399 - val_acc: 0.8079\n",
      "Epoch 19/50\n",
      "60000/60000 [==============================] - 1s 21us/step - loss: 0.1402 - acc: 0.8086 - val_loss: 0.1378 - val_acc: 0.8083\n",
      "Epoch 20/50\n",
      "60000/60000 [==============================] - 1s 22us/step - loss: 0.1380 - acc: 0.8090 - val_loss: 0.1356 - val_acc: 0.8086\n",
      "Epoch 21/50\n",
      "60000/60000 [==============================] - 1s 22us/step - loss: 0.1360 - acc: 0.8093 - val_loss: 0.1336 - val_acc: 0.8088\n",
      "Epoch 22/50\n",
      "60000/60000 [==============================] - 1s 23us/step - loss: 0.1341 - acc: 0.8096 - val_loss: 0.1317 - val_acc: 0.8090\n",
      "Epoch 23/50\n",
      "60000/60000 [==============================] - 1s 20us/step - loss: 0.1323 - acc: 0.8099 - val_loss: 0.1299 - val_acc: 0.8093\n",
      "Epoch 24/50\n",
      "60000/60000 [==============================] - 1s 19us/step - loss: 0.1305 - acc: 0.8102 - val_loss: 0.1282 - val_acc: 0.8095\n",
      "Epoch 25/50\n",
      "60000/60000 [==============================] - 1s 19us/step - loss: 0.1288 - acc: 0.8104 - val_loss: 0.1265 - val_acc: 0.8097\n",
      "Epoch 26/50\n",
      "60000/60000 [==============================] - 1s 20us/step - loss: 0.1272 - acc: 0.8107 - val_loss: 0.1249 - val_acc: 0.8098\n",
      "Epoch 27/50\n",
      "60000/60000 [==============================] - 1s 19us/step - loss: 0.1256 - acc: 0.8109 - val_loss: 0.1233 - val_acc: 0.8102\n",
      "Epoch 28/50\n",
      "60000/60000 [==============================] - 1s 19us/step - loss: 0.1240 - acc: 0.8111 - val_loss: 0.1219 - val_acc: 0.8106\n",
      "Epoch 29/50\n",
      "60000/60000 [==============================] - 1s 19us/step - loss: 0.1225 - acc: 0.8114 - val_loss: 0.1204 - val_acc: 0.8108\n",
      "Epoch 30/50\n",
      "60000/60000 [==============================] - 1s 19us/step - loss: 0.1211 - acc: 0.8116 - val_loss: 0.1189 - val_acc: 0.8108\n",
      "Epoch 31/50\n",
      "60000/60000 [==============================] - 1s 19us/step - loss: 0.1197 - acc: 0.8117 - val_loss: 0.1176 - val_acc: 0.8110\n",
      "Epoch 32/50\n",
      "60000/60000 [==============================] - 1s 19us/step - loss: 0.1184 - acc: 0.8119 - val_loss: 0.1163 - val_acc: 0.8112\n",
      "Epoch 33/50\n",
      "60000/60000 [==============================] - 1s 19us/step - loss: 0.1172 - acc: 0.8121 - val_loss: 0.1151 - val_acc: 0.8113\n",
      "Epoch 34/50\n",
      "60000/60000 [==============================] - 1s 19us/step - loss: 0.1160 - acc: 0.8122 - val_loss: 0.1139 - val_acc: 0.8114\n",
      "Epoch 35/50\n",
      "60000/60000 [==============================] - 1s 20us/step - loss: 0.1149 - acc: 0.8123 - val_loss: 0.1129 - val_acc: 0.8116\n",
      "Epoch 36/50\n",
      "60000/60000 [==============================] - 1s 20us/step - loss: 0.1139 - acc: 0.8125 - val_loss: 0.1119 - val_acc: 0.8116\n",
      "Epoch 37/50\n",
      "60000/60000 [==============================] - 1s 20us/step - loss: 0.1130 - acc: 0.8126 - val_loss: 0.1111 - val_acc: 0.8117\n",
      "Epoch 38/50\n",
      "60000/60000 [==============================] - 1s 19us/step - loss: 0.1121 - acc: 0.8126 - val_loss: 0.1102 - val_acc: 0.8119\n",
      "Epoch 39/50\n",
      "60000/60000 [==============================] - 1s 20us/step - loss: 0.1113 - acc: 0.8127 - val_loss: 0.1095 - val_acc: 0.8119\n",
      "Epoch 40/50\n",
      "60000/60000 [==============================] - 1s 20us/step - loss: 0.1106 - acc: 0.8128 - val_loss: 0.1088 - val_acc: 0.8120\n",
      "Epoch 41/50\n",
      "60000/60000 [==============================] - 1s 20us/step - loss: 0.1099 - acc: 0.8129 - val_loss: 0.1081 - val_acc: 0.8121\n",
      "Epoch 42/50\n",
      "60000/60000 [==============================] - 1s 20us/step - loss: 0.1093 - acc: 0.8129 - val_loss: 0.1075 - val_acc: 0.8122\n",
      "Epoch 43/50\n",
      "60000/60000 [==============================] - 1s 20us/step - loss: 0.1087 - acc: 0.8130 - val_loss: 0.1069 - val_acc: 0.8121\n",
      "Epoch 44/50\n",
      "60000/60000 [==============================] - 1s 20us/step - loss: 0.1082 - acc: 0.8130 - val_loss: 0.1064 - val_acc: 0.8122\n",
      "Epoch 45/50\n",
      "60000/60000 [==============================] - 1s 19us/step - loss: 0.1076 - acc: 0.8131 - val_loss: 0.1059 - val_acc: 0.8122\n",
      "Epoch 46/50\n",
      "60000/60000 [==============================] - 1s 22us/step - loss: 0.1072 - acc: 0.8131 - val_loss: 0.1054 - val_acc: 0.8123\n",
      "Epoch 47/50\n",
      "60000/60000 [==============================] - 1s 21us/step - loss: 0.1067 - acc: 0.8132 - val_loss: 0.1050 - val_acc: 0.8123\n",
      "Epoch 48/50\n",
      "60000/60000 [==============================] - 1s 22us/step - loss: 0.1063 - acc: 0.8132 - val_loss: 0.1046 - val_acc: 0.8123\n",
      "Epoch 49/50\n",
      "60000/60000 [==============================] - 1s 20us/step - loss: 0.1059 - acc: 0.8132 - val_loss: 0.1042 - val_acc: 0.8124\n",
      "Epoch 50/50\n",
      "60000/60000 [==============================] - 1s 19us/step - loss: 0.1055 - acc: 0.8133 - val_loss: 0.1038 - val_acc: 0.8125\n"
     ]
    },
    {
     "data": {
      "text/plain": [
       "<keras.callbacks.History at 0x2144be752b0>"
      ]
     },
     "execution_count": 14,
     "metadata": {},
     "output_type": "execute_result"
    }
   ],
   "source": [
    "# Comlpiling and fitting model\n",
    "autoencoder.compile(optimizer = 'adadelta', loss = 'binary_crossentropy',metrics = ['accuracy'])\n",
    "\n",
    "autoencoder.fit(X_train, X_train, epochs = 50, batch_size = 256, shuffle = True, validation_data = (X_test, X_test))"
   ]
  },
  {
   "cell_type": "code",
   "execution_count": 15,
   "metadata": {},
   "outputs": [
    {
     "name": "stdout",
     "output_type": "stream",
     "text": [
      "Saved model to disk\n"
     ]
    }
   ],
   "source": [
    "# Saving model and weights of autoencoder\n",
    "model_json = autoencoder.to_json()\n",
    "with open(\"simple_autoencoder_model\", \"w\") as json_file:\n",
    "    json_file.write(model_json)\n",
    "# serialize weights to HDF5\n",
    "autoencoder.save_weights(\"simple_autoencoder_model.h5\"),\n",
    "print(\"Saved model to disk\")"
   ]
  },
  {
   "cell_type": "code",
   "execution_count": 16,
   "metadata": {},
   "outputs": [
    {
     "name": "stdout",
     "output_type": "stream",
     "text": [
      "Saved model to disk\n"
     ]
    }
   ],
   "source": [
    "# Saving model and weights of encoder\n",
    "model_json = encoder.to_json()\n",
    "with open(\"simple_autoencoder_model_encoder_only\", \"w\") as json_file:\n",
    "    json_file.write(model_json)\n",
    "# serialize weights to HDF5\n",
    "encoder.save_weights(\"simple_autoencoder_model_encoder_only.h5\"),\n",
    "print(\"Saved model to disk\")"
   ]
  },
  {
   "cell_type": "code",
   "execution_count": 17,
   "metadata": {},
   "outputs": [
    {
     "name": "stdout",
     "output_type": "stream",
     "text": [
      "Saved model to disk\n"
     ]
    }
   ],
   "source": [
    "# Saving model and weights of decoder\n",
    "model_json = decoder.to_json()\n",
    "with open(\"simple_autoencoder_model_decoder_only\", \"w\") as json_file:\n",
    "    json_file.write(model_json)\n",
    "# serialize weights to HDF5\n",
    "decoder.save_weights(\"simple_autoencoder_model_decoder_only.h5\"),\n",
    "print(\"Saved model to disk\")"
   ]
  },
  {
   "cell_type": "code",
   "execution_count": 18,
   "metadata": {},
   "outputs": [],
   "source": [
    "encoded_imgs = encoder.predict(X_test)                         # Passing image through encoder to create latent vector\n",
    "predicted = autoencoder.predict(X_test)                        # Passing image through whole autoencoder\n",
    "decoder_predict = decoder.predict(encoded_imgs)                # Pass the encoded value by encoder via decoder to check if it can generate mnist like image or not"
   ]
  },
  {
   "cell_type": "code",
   "execution_count": 19,
   "metadata": {},
   "outputs": [
    {
     "data": {
      "image/png": "[encoded data removed]",
      "text/plain": [
       "<Figure size 2880x288 with 30 Axes>"
      ]
     },
     "metadata": {
      "needs_background": "light"
     },
     "output_type": "display_data"
    }
   ],
   "source": [
    "# Plotting figure \n",
    "\n",
    "plt.figure(figsize=(40, 4))\n",
    "for i in range(10):\n",
    "    # display original\n",
    "    ax = plt.subplot(3, 20, i + 1)\n",
    "    plt.imshow(X_test[i].reshape(28, 28))\n",
    "    plt.gray()\n",
    "    ax.get_xaxis().set_visible(False)\n",
    "    ax.get_yaxis().set_visible(False)\n",
    "    \n",
    "    # display encoded image\n",
    "    ax = plt.subplot(3, 20, i + 1 + 20)\n",
    "    plt.imshow(encoded_imgs[i].reshape(8,4))\n",
    "    plt.gray()\n",
    "    ax.get_xaxis().set_visible(False)\n",
    "    ax.get_yaxis().set_visible(False)\n",
    "    # display reconstruction\n",
    "    ax = plt.subplot(3, 20, 2*20 +i+ 1)\n",
    "    plt.imshow(decoder_predict[i].reshape(28, 28))\n",
    "    plt.gray()\n",
    "    ax.get_xaxis().set_visible(False)\n",
    "    ax.get_yaxis().set_visible(False)\n",
    "    \n",
    "    \n",
    "plt.show()\n",
    "\n",
    "# First one is real image\n",
    "# Second one is encoded latent vector\n",
    "# Thir one is the image which decoder generated from encoded value"
   ]
  }
 ],
 "metadata": {
  "kernelspec": {
   "display_name": "Python 3",
   "language": "python",
   "name": "python3"
  },
  "language_info": {
   "codemirror_mode": {
    "name": "ipython",
    "version": 3
   },
   "file_extension": ".py",
   "mimetype": "text/x-python",
   "name": "python",
   "nbconvert_exporter": "python",
   "pygments_lexer": "ipython3",
   "version": "3.6.10"
  }
 },
 "nbformat": 4,
 "nbformat_minor": 4
}
