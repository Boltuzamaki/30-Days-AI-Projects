{
 "cells": [
  {
   "cell_type": "markdown",
   "metadata": {},
   "source": [
    "# Noise removal autoencoder"
   ]
  },
  {
   "cell_type": "code",
   "execution_count": 1,
   "metadata": {},
   "outputs": [
    {
     "name": "stderr",
     "output_type": "stream",
     "text": [
      "Using TensorFlow backend.\n",
      "c:\\users\\boltuzamaki\\anaconda3\\envs\\pose\\lib\\site-packages\\tensorflow\\python\\framework\\dtypes.py:523: FutureWarning: Passing (type, 1) or '1type' as a synonym of type is deprecated; in a future version of numpy, it will be understood as (type, (1,)) / '(1,)type'.\n",
      "  _np_qint8 = np.dtype([(\"qint8\", np.int8, 1)])\n",
      "c:\\users\\boltuzamaki\\anaconda3\\envs\\pose\\lib\\site-packages\\tensorflow\\python\\framework\\dtypes.py:524: FutureWarning: Passing (type, 1) or '1type' as a synonym of type is deprecated; in a future version of numpy, it will be understood as (type, (1,)) / '(1,)type'.\n",
      "  _np_quint8 = np.dtype([(\"quint8\", np.uint8, 1)])\n",
      "c:\\users\\boltuzamaki\\anaconda3\\envs\\pose\\lib\\site-packages\\tensorflow\\python\\framework\\dtypes.py:525: FutureWarning: Passing (type, 1) or '1type' as a synonym of type is deprecated; in a future version of numpy, it will be understood as (type, (1,)) / '(1,)type'.\n",
      "  _np_qint16 = np.dtype([(\"qint16\", np.int16, 1)])\n",
      "c:\\users\\boltuzamaki\\anaconda3\\envs\\pose\\lib\\site-packages\\tensorflow\\python\\framework\\dtypes.py:526: FutureWarning: Passing (type, 1) or '1type' as a synonym of type is deprecated; in a future version of numpy, it will be understood as (type, (1,)) / '(1,)type'.\n",
      "  _np_quint16 = np.dtype([(\"quint16\", np.uint16, 1)])\n",
      "c:\\users\\boltuzamaki\\anaconda3\\envs\\pose\\lib\\site-packages\\tensorflow\\python\\framework\\dtypes.py:527: FutureWarning: Passing (type, 1) or '1type' as a synonym of type is deprecated; in a future version of numpy, it will be understood as (type, (1,)) / '(1,)type'.\n",
      "  _np_qint32 = np.dtype([(\"qint32\", np.int32, 1)])\n",
      "c:\\users\\boltuzamaki\\anaconda3\\envs\\pose\\lib\\site-packages\\tensorflow\\python\\framework\\dtypes.py:532: FutureWarning: Passing (type, 1) or '1type' as a synonym of type is deprecated; in a future version of numpy, it will be understood as (type, (1,)) / '(1,)type'.\n",
      "  np_resource = np.dtype([(\"resource\", np.ubyte, 1)])\n"
     ]
    }
   ],
   "source": [
    "from keras.datasets import mnist\n",
    "from keras.layers import Input, Dense\n",
    "from keras.models import Model\n",
    "import numpy as np\n",
    "import pandas as pd\n",
    "import matplotlib.pyplot as plt\n",
    "%matplotlib inline"
   ]
  },
  {
   "cell_type": "code",
   "execution_count": 2,
   "metadata": {},
   "outputs": [
    {
     "name": "stdout",
     "output_type": "stream",
     "text": [
      "(60000, 784)\n",
      "(10000, 784)\n"
     ]
    }
   ],
   "source": [
    "#loading only images and not their labels\n",
    "(X_train, _), (X_test, _) = mnist.load_data()\n",
    "\n",
    "X_train = X_train.astype('float32')/255\n",
    "X_test = X_test.astype('float32')/255\n",
    "\n",
    "X_train = X_train.reshape(len(X_train), np.prod(X_train.shape[1:]))    # create X_train and X_test of shape(no_of_image, 784)\n",
    "X_test = X_test.reshape(len(X_test), np.prod(X_test.shape[1:]))\n",
    "\n",
    "\n",
    "\n",
    "X_train_noisy = X_train + np.random.normal(loc=0.0, scale=0.5, size=X_train.shape)   # add noise to the image value of image(0,1)\n",
    "X_train_noisy = np.clip(X_train_noisy, 0., 1.)                 # So due to add noise it may go out of bond from 0-1 and when we\n",
    "                                                               # clip 0-1 the some data lost as noise\n",
    "X_test_noisy = X_test + np.random.normal(loc=0.0, scale=0.5, size=X_test.shape)\n",
    "X_test_noisy = np.clip(X_test_noisy, 0., 1.)\n",
    "\n",
    "print(X_train_noisy.shape)\n",
    "print(X_test_noisy.shape)"
   ]
  },
  {
   "cell_type": "code",
   "execution_count": 3,
   "metadata": {},
   "outputs": [],
   "source": [
    "#Input image\n",
    "\n",
    "input_img= Input(shape=(784,))\n",
    "\n",
    "# Creating layers\n",
    "\n",
    "layer1 = Dense(units = 128, activation = 'relu')(input_img)        # encoder layers\n",
    "layer2 = Dense(units = 64, activation = 'relu')(layer1)\n",
    "layer3 =  Dense(units = 32, activation = 'relu')(layer2)        # We find Encodings here\n",
    "layer4 = Dense(units = 64, activation = 'relu')(layer3)          # Decoder layers\n",
    "layer5 = Dense(units = 128, activation = 'relu')(layer4)\n",
    "final_layer =Dense(units = 784, activation = 'sigmoid')(layer5)   ## decoded image\n",
    "\n",
    "# Building autoencoder\n",
    "autoencoder=Model(input_img, final_layer)"
   ]
  },
  {
   "cell_type": "code",
   "execution_count": 4,
   "metadata": {},
   "outputs": [
    {
     "name": "stdout",
     "output_type": "stream",
     "text": [
      "_________________________________________________________________\n",
      "Layer (type)                 Output Shape              Param #   \n",
      "=================================================================\n",
      "input_1 (InputLayer)         (None, 784)               0         \n",
      "_________________________________________________________________\n",
      "dense_1 (Dense)              (None, 128)               100480    \n",
      "_________________________________________________________________\n",
      "dense_2 (Dense)              (None, 64)                8256      \n",
      "_________________________________________________________________\n",
      "dense_3 (Dense)              (None, 32)                2080      \n",
      "_________________________________________________________________\n",
      "dense_4 (Dense)              (None, 64)                2112      \n",
      "_________________________________________________________________\n",
      "dense_5 (Dense)              (None, 128)               8320      \n",
      "_________________________________________________________________\n",
      "dense_6 (Dense)              (None, 784)               101136    \n",
      "=================================================================\n",
      "Total params: 222,384\n",
      "Trainable params: 222,384\n",
      "Non-trainable params: 0\n",
      "_________________________________________________________________\n"
     ]
    }
   ],
   "source": [
    "autoencoder.summary()"
   ]
  },
  {
   "cell_type": "code",
   "execution_count": 5,
   "metadata": {},
   "outputs": [],
   "source": [
    "#extracting encoder\n",
    "\n",
    "encoder = Model(input_img, layer3)"
   ]
  },
  {
   "cell_type": "code",
   "execution_count": 6,
   "metadata": {},
   "outputs": [
    {
     "name": "stdout",
     "output_type": "stream",
     "text": [
      "_________________________________________________________________\n",
      "Layer (type)                 Output Shape              Param #   \n",
      "=================================================================\n",
      "input_1 (InputLayer)         (None, 784)               0         \n",
      "_________________________________________________________________\n",
      "dense_1 (Dense)              (None, 128)               100480    \n",
      "_________________________________________________________________\n",
      "dense_2 (Dense)              (None, 64)                8256      \n",
      "_________________________________________________________________\n",
      "dense_3 (Dense)              (None, 32)                2080      \n",
      "=================================================================\n",
      "Total params: 110,816\n",
      "Trainable params: 110,816\n",
      "Non-trainable params: 0\n",
      "_________________________________________________________________\n"
     ]
    }
   ],
   "source": [
    "encoder.summary()"
   ]
  },
  {
   "cell_type": "code",
   "execution_count": 7,
   "metadata": {},
   "outputs": [],
   "source": [
    "# Creating decoder model\n",
    "\n",
    "encoded_input = Input(shape=(32,))\n",
    "decoder_layer3 = autoencoder.layers[-3](encoded_input)\n",
    "decoder_layer2 = autoencoder.layers[-2](decoder_layer3)\n",
    "decoder_layer1 = autoencoder.layers[-1](decoder_layer2) "
   ]
  },
  {
   "cell_type": "code",
   "execution_count": 8,
   "metadata": {},
   "outputs": [
    {
     "name": "stdout",
     "output_type": "stream",
     "text": [
      "_________________________________________________________________\n",
      "Layer (type)                 Output Shape              Param #   \n",
      "=================================================================\n",
      "input_2 (InputLayer)         (None, 32)                0         \n",
      "_________________________________________________________________\n",
      "dense_4 (Dense)              (None, 64)                2112      \n",
      "_________________________________________________________________\n",
      "dense_5 (Dense)              (None, 128)               8320      \n",
      "_________________________________________________________________\n",
      "dense_6 (Dense)              (None, 784)               101136    \n",
      "=================================================================\n",
      "Total params: 111,568\n",
      "Trainable params: 111,568\n",
      "Non-trainable params: 0\n",
      "_________________________________________________________________\n"
     ]
    }
   ],
   "source": [
    "# Compiling decoder model\n",
    "\n",
    "decoder = Model(encoded_input, decoder_layer1)\n",
    "decoder.summary()"
   ]
  },
  {
   "cell_type": "code",
   "execution_count": 9,
   "metadata": {},
   "outputs": [],
   "source": [
    "# compiling the autoencoder\n",
    "\n",
    "autoencoder.compile(optimizer='adadelta', loss='binary_crossentropy', metrics=['accuracy'])"
   ]
  },
  {
   "cell_type": "code",
   "execution_count": 10,
   "metadata": {},
   "outputs": [
    {
     "name": "stdout",
     "output_type": "stream",
     "text": [
      "Train on 60000 samples, validate on 10000 samples\n",
      "Epoch 1/100\n",
      "60000/60000 [==============================] - 5s 90us/step - loss: 0.3113 - acc: 0.7691 - val_loss: 0.2621 - val_acc: 0.7908\n",
      "Epoch 2/100\n",
      "60000/60000 [==============================] - 2s 32us/step - loss: 0.2583 - acc: 0.7986 - val_loss: 0.2553 - val_acc: 0.7920\n",
      "Epoch 3/100\n",
      "60000/60000 [==============================] - 2s 34us/step - loss: 0.2486 - acc: 0.7951 - val_loss: 0.2426 - val_acc: 0.7941\n",
      "Epoch 4/100\n",
      "60000/60000 [==============================] - 2s 31us/step - loss: 0.2377 - acc: 0.7938 - val_loss: 0.2311 - val_acc: 0.7927\n",
      "Epoch 5/100\n",
      "60000/60000 [==============================] - 2s 31us/step - loss: 0.2297 - acc: 0.7934 - val_loss: 0.2272 - val_acc: 0.7951\n",
      "Epoch 6/100\n",
      "60000/60000 [==============================] - 2s 33us/step - loss: 0.2229 - acc: 0.7943 - val_loss: 0.2170 - val_acc: 0.7972\n",
      "Epoch 7/100\n",
      "60000/60000 [==============================] - 2s 33us/step - loss: 0.2123 - acc: 0.7954 - val_loss: 0.2055 - val_acc: 0.7927\n",
      "Epoch 8/100\n",
      "60000/60000 [==============================] - 2s 33us/step - loss: 0.2029 - acc: 0.7968 - val_loss: 0.1979 - val_acc: 0.7942\n",
      "Epoch 9/100\n",
      "60000/60000 [==============================] - 2s 32us/step - loss: 0.1969 - acc: 0.7976 - val_loss: 0.1940 - val_acc: 0.7975\n",
      "Epoch 10/100\n",
      "60000/60000 [==============================] - 2s 31us/step - loss: 0.1923 - acc: 0.7982 - val_loss: 0.1898 - val_acc: 0.7978\n",
      "Epoch 11/100\n",
      "60000/60000 [==============================] - 2s 33us/step - loss: 0.1881 - acc: 0.7987 - val_loss: 0.1831 - val_acc: 0.7988\n",
      "Epoch 12/100\n",
      "60000/60000 [==============================] - 2s 34us/step - loss: 0.1836 - acc: 0.7996 - val_loss: 0.1822 - val_acc: 0.7976\n",
      "Epoch 13/100\n",
      "60000/60000 [==============================] - 2s 32us/step - loss: 0.1799 - acc: 0.8004 - val_loss: 0.1775 - val_acc: 0.7971\n",
      "Epoch 14/100\n",
      "60000/60000 [==============================] - 2s 31us/step - loss: 0.1768 - acc: 0.8010 - val_loss: 0.1751 - val_acc: 0.7966\n",
      "Epoch 15/100\n",
      "60000/60000 [==============================] - 2s 33us/step - loss: 0.1736 - acc: 0.8017 - val_loss: 0.1711 - val_acc: 0.8005\n",
      "Epoch 16/100\n",
      "60000/60000 [==============================] - 2s 31us/step - loss: 0.1710 - acc: 0.8022 - val_loss: 0.1708 - val_acc: 0.7981\n",
      "Epoch 17/100\n",
      "60000/60000 [==============================] - 2s 32us/step - loss: 0.1686 - acc: 0.8026 - val_loss: 0.1651 - val_acc: 0.8027\n",
      "Epoch 18/100\n",
      "60000/60000 [==============================] - 2s 32us/step - loss: 0.1663 - acc: 0.8030 - val_loss: 0.1641 - val_acc: 0.8017\n",
      "Epoch 19/100\n",
      "60000/60000 [==============================] - 2s 32us/step - loss: 0.1645 - acc: 0.8033 - val_loss: 0.1623 - val_acc: 0.8026\n",
      "Epoch 20/100\n",
      "60000/60000 [==============================] - 2s 31us/step - loss: 0.1627 - acc: 0.8036 - val_loss: 0.1606 - val_acc: 0.8008\n",
      "Epoch 21/100\n",
      "60000/60000 [==============================] - 2s 36us/step - loss: 0.1611 - acc: 0.8039 - val_loss: 0.1590 - val_acc: 0.8053\n",
      "Epoch 22/100\n",
      "60000/60000 [==============================] - 2s 32us/step - loss: 0.1598 - acc: 0.8042 - val_loss: 0.1574 - val_acc: 0.8041\n",
      "Epoch 23/100\n",
      "60000/60000 [==============================] - 2s 34us/step - loss: 0.1584 - acc: 0.8044 - val_loss: 0.1579 - val_acc: 0.8056\n",
      "Epoch 24/100\n",
      "60000/60000 [==============================] - 2s 32us/step - loss: 0.1571 - acc: 0.8046 - val_loss: 0.1571 - val_acc: 0.8007\n",
      "Epoch 25/100\n",
      "60000/60000 [==============================] - 2s 32us/step - loss: 0.1558 - acc: 0.8049 - val_loss: 0.1550 - val_acc: 0.8047\n",
      "Epoch 26/100\n",
      "60000/60000 [==============================] - 2s 31us/step - loss: 0.1545 - acc: 0.8051 - val_loss: 0.1537 - val_acc: 0.8034\n",
      "Epoch 27/100\n",
      "60000/60000 [==============================] - 2s 33us/step - loss: 0.1534 - acc: 0.8053 - val_loss: 0.1517 - val_acc: 0.8037\n",
      "Epoch 28/100\n",
      "60000/60000 [==============================] - 2s 32us/step - loss: 0.1521 - acc: 0.8055 - val_loss: 0.1519 - val_acc: 0.8057\n",
      "Epoch 29/100\n",
      "60000/60000 [==============================] - 2s 32us/step - loss: 0.1509 - acc: 0.8058 - val_loss: 0.1504 - val_acc: 0.8039\n",
      "Epoch 30/100\n",
      "60000/60000 [==============================] - 2s 29us/step - loss: 0.1498 - acc: 0.8059 - val_loss: 0.1488 - val_acc: 0.8051\n",
      "Epoch 31/100\n",
      "60000/60000 [==============================] - 2s 30us/step - loss: 0.1488 - acc: 0.8062 - val_loss: 0.1483 - val_acc: 0.8044\n",
      "Epoch 32/100\n",
      "60000/60000 [==============================] - 2s 38us/step - loss: 0.1479 - acc: 0.8063 - val_loss: 0.1465 - val_acc: 0.8073\n",
      "Epoch 33/100\n",
      "60000/60000 [==============================] - 3s 47us/step - loss: 0.1469 - acc: 0.8065 - val_loss: 0.1460 - val_acc: 0.8068\n",
      "Epoch 34/100\n",
      "60000/60000 [==============================] - 3s 51us/step - loss: 0.1460 - acc: 0.8066 - val_loss: 0.1456 - val_acc: 0.8078\n",
      "Epoch 35/100\n",
      "60000/60000 [==============================] - 2s 40us/step - loss: 0.1454 - acc: 0.8067 - val_loss: 0.1444 - val_acc: 0.8079\n",
      "Epoch 36/100\n",
      "60000/60000 [==============================] - 2s 34us/step - loss: 0.1446 - acc: 0.8068 - val_loss: 0.1429 - val_acc: 0.8059\n",
      "Epoch 37/100\n",
      "60000/60000 [==============================] - 2s 29us/step - loss: 0.1440 - acc: 0.8069 - val_loss: 0.1434 - val_acc: 0.8044\n",
      "Epoch 38/100\n",
      "60000/60000 [==============================] - 2s 30us/step - loss: 0.1434 - acc: 0.8070 - val_loss: 0.1443 - val_acc: 0.8084\n",
      "Epoch 39/100\n",
      "60000/60000 [==============================] - 2s 40us/step - loss: 0.1425 - acc: 0.8072 - val_loss: 0.1422 - val_acc: 0.8076\n",
      "Epoch 40/100\n",
      "60000/60000 [==============================] - 2s 38us/step - loss: 0.1422 - acc: 0.8072 - val_loss: 0.1424 - val_acc: 0.8077\n",
      "Epoch 41/100\n",
      "60000/60000 [==============================] - 2s 32us/step - loss: 0.1419 - acc: 0.8073 - val_loss: 0.1396 - val_acc: 0.8064\n",
      "Epoch 42/100\n",
      "60000/60000 [==============================] - 2s 30us/step - loss: 0.1411 - acc: 0.8074 - val_loss: 0.1416 - val_acc: 0.8044\n",
      "Epoch 43/100\n",
      "60000/60000 [==============================] - 2s 34us/step - loss: 0.1407 - acc: 0.8074 - val_loss: 0.1407 - val_acc: 0.8044\n",
      "Epoch 44/100\n",
      "60000/60000 [==============================] - 2s 32us/step - loss: 0.1400 - acc: 0.8075 - val_loss: 0.1408 - val_acc: 0.8086\n",
      "Epoch 45/100\n",
      "60000/60000 [==============================] - 2s 34us/step - loss: 0.1396 - acc: 0.8076 - val_loss: 0.1395 - val_acc: 0.8052\n",
      "Epoch 46/100\n",
      "60000/60000 [==============================] - 2s 36us/step - loss: 0.1391 - acc: 0.8077 - val_loss: 0.1394 - val_acc: 0.8076\n",
      "Epoch 47/100\n",
      "60000/60000 [==============================] - 2s 34us/step - loss: 0.1386 - acc: 0.8078 - val_loss: 0.1370 - val_acc: 0.8068\n",
      "Epoch 48/100\n",
      "60000/60000 [==============================] - 2s 33us/step - loss: 0.1381 - acc: 0.8079 - val_loss: 0.1376 - val_acc: 0.8053\n",
      "Epoch 49/100\n",
      "60000/60000 [==============================] - 2s 32us/step - loss: 0.1376 - acc: 0.8079 - val_loss: 0.1377 - val_acc: 0.8081\n",
      "Epoch 50/100\n",
      "60000/60000 [==============================] - 2s 34us/step - loss: 0.1372 - acc: 0.8080 - val_loss: 0.1370 - val_acc: 0.8087\n",
      "Epoch 51/100\n",
      "60000/60000 [==============================] - 2s 31us/step - loss: 0.1367 - acc: 0.8081 - val_loss: 0.1371 - val_acc: 0.8083\n",
      "Epoch 52/100\n",
      "60000/60000 [==============================] - 2s 30us/step - loss: 0.1363 - acc: 0.8082 - val_loss: 0.1369 - val_acc: 0.8063\n",
      "Epoch 53/100\n",
      "60000/60000 [==============================] - 2s 32us/step - loss: 0.1358 - acc: 0.8083 - val_loss: 0.1360 - val_acc: 0.8080\n",
      "Epoch 54/100\n",
      "60000/60000 [==============================] - 2s 30us/step - loss: 0.1355 - acc: 0.8083 - val_loss: 0.1372 - val_acc: 0.8087\n",
      "Epoch 55/100\n",
      "60000/60000 [==============================] - 2s 30us/step - loss: 0.1352 - acc: 0.8083 - val_loss: 0.1347 - val_acc: 0.8059\n",
      "Epoch 56/100\n",
      "60000/60000 [==============================] - 2s 30us/step - loss: 0.1346 - acc: 0.8084 - val_loss: 0.1337 - val_acc: 0.8071\n",
      "Epoch 57/100\n",
      "60000/60000 [==============================] - 2s 30us/step - loss: 0.1343 - acc: 0.8085 - val_loss: 0.1352 - val_acc: 0.8057\n",
      "Epoch 58/100\n",
      "60000/60000 [==============================] - 2s 30us/step - loss: 0.1338 - acc: 0.8086 - val_loss: 0.1334 - val_acc: 0.8076\n",
      "Epoch 59/100\n"
     ]
    },
    {
     "name": "stdout",
     "output_type": "stream",
     "text": [
      "60000/60000 [==============================] - 2s 30us/step - loss: 0.1336 - acc: 0.8086 - val_loss: 0.1338 - val_acc: 0.8088\n",
      "Epoch 60/100\n",
      "60000/60000 [==============================] - 2s 30us/step - loss: 0.1332 - acc: 0.8087 - val_loss: 0.1324 - val_acc: 0.8083\n",
      "Epoch 61/100\n",
      "60000/60000 [==============================] - 2s 30us/step - loss: 0.1329 - acc: 0.8087 - val_loss: 0.1336 - val_acc: 0.8093\n",
      "Epoch 62/100\n",
      "60000/60000 [==============================] - 2s 30us/step - loss: 0.1325 - acc: 0.8088 - val_loss: 0.1316 - val_acc: 0.8087\n",
      "Epoch 63/100\n",
      "60000/60000 [==============================] - 2s 31us/step - loss: 0.1323 - acc: 0.8088 - val_loss: 0.1333 - val_acc: 0.8093\n",
      "Epoch 64/100\n",
      "60000/60000 [==============================] - 2s 31us/step - loss: 0.1320 - acc: 0.8089 - val_loss: 0.1318 - val_acc: 0.8071\n",
      "Epoch 65/100\n",
      "60000/60000 [==============================] - 2s 31us/step - loss: 0.1317 - acc: 0.8089 - val_loss: 0.1315 - val_acc: 0.8067\n",
      "Epoch 66/100\n",
      "60000/60000 [==============================] - 2s 31us/step - loss: 0.1312 - acc: 0.8090 - val_loss: 0.1314 - val_acc: 0.8091\n",
      "Epoch 67/100\n",
      "60000/60000 [==============================] - 2s 30us/step - loss: 0.1311 - acc: 0.8090 - val_loss: 0.1325 - val_acc: 0.8096\n",
      "Epoch 68/100\n",
      "60000/60000 [==============================] - 2s 31us/step - loss: 0.1307 - acc: 0.8090 - val_loss: 0.1319 - val_acc: 0.8087\n",
      "Epoch 69/100\n",
      "60000/60000 [==============================] - 2s 30us/step - loss: 0.1304 - acc: 0.8091 - val_loss: 0.1319 - val_acc: 0.8090\n",
      "Epoch 70/100\n",
      "60000/60000 [==============================] - 2s 31us/step - loss: 0.1303 - acc: 0.8091 - val_loss: 0.1302 - val_acc: 0.8072\n",
      "Epoch 71/100\n",
      "60000/60000 [==============================] - 2s 31us/step - loss: 0.1299 - acc: 0.8092 - val_loss: 0.1310 - val_acc: 0.8092\n",
      "Epoch 72/100\n",
      "60000/60000 [==============================] - 2s 31us/step - loss: 0.1296 - acc: 0.8092 - val_loss: 0.1301 - val_acc: 0.8088\n",
      "Epoch 73/100\n",
      "60000/60000 [==============================] - 2s 35us/step - loss: 0.1293 - acc: 0.8093 - val_loss: 0.1294 - val_acc: 0.8082\n",
      "Epoch 74/100\n",
      "60000/60000 [==============================] - 2s 33us/step - loss: 0.1292 - acc: 0.8093 - val_loss: 0.1301 - val_acc: 0.8088\n",
      "Epoch 75/100\n",
      "60000/60000 [==============================] - 2s 31us/step - loss: 0.1289 - acc: 0.8093 - val_loss: 0.1301 - val_acc: 0.8073\n",
      "Epoch 76/100\n",
      "60000/60000 [==============================] - 2s 32us/step - loss: 0.1286 - acc: 0.8093 - val_loss: 0.1294 - val_acc: 0.8085\n",
      "Epoch 77/100\n",
      "60000/60000 [==============================] - 2s 32us/step - loss: 0.1284 - acc: 0.8094 - val_loss: 0.1288 - val_acc: 0.8072\n",
      "Epoch 78/100\n",
      "60000/60000 [==============================] - 2s 31us/step - loss: 0.1282 - acc: 0.8094 - val_loss: 0.1287 - val_acc: 0.8082\n",
      "Epoch 79/100\n",
      "60000/60000 [==============================] - 2s 30us/step - loss: 0.1279 - acc: 0.8095 - val_loss: 0.1288 - val_acc: 0.8073\n",
      "Epoch 80/100\n",
      "60000/60000 [==============================] - 2s 33us/step - loss: 0.1277 - acc: 0.8095 - val_loss: 0.1271 - val_acc: 0.8085\n",
      "Epoch 81/100\n",
      "60000/60000 [==============================] - 2s 36us/step - loss: 0.1274 - acc: 0.8095 - val_loss: 0.1295 - val_acc: 0.8061\n",
      "Epoch 82/100\n",
      "60000/60000 [==============================] - 2s 34us/step - loss: 0.1271 - acc: 0.8096 - val_loss: 0.1276 - val_acc: 0.8094\n",
      "Epoch 83/100\n",
      "60000/60000 [==============================] - 2s 31us/step - loss: 0.1270 - acc: 0.8096 - val_loss: 0.1285 - val_acc: 0.8098\n",
      "Epoch 84/100\n",
      "60000/60000 [==============================] - 2s 32us/step - loss: 0.1270 - acc: 0.8096 - val_loss: 0.1289 - val_acc: 0.8068\n",
      "Epoch 85/100\n",
      "60000/60000 [==============================] - 2s 31us/step - loss: 0.1265 - acc: 0.8097 - val_loss: 0.1272 - val_acc: 0.8094\n",
      "Epoch 86/100\n",
      "60000/60000 [==============================] - 2s 31us/step - loss: 0.1264 - acc: 0.8097 - val_loss: 0.1270 - val_acc: 0.8081\n",
      "Epoch 87/100\n",
      "60000/60000 [==============================] - 2s 31us/step - loss: 0.1262 - acc: 0.8097 - val_loss: 0.1280 - val_acc: 0.8067\n",
      "Epoch 88/100\n",
      "60000/60000 [==============================] - 2s 31us/step - loss: 0.1261 - acc: 0.8097 - val_loss: 0.1280 - val_acc: 0.8098\n",
      "Epoch 89/100\n",
      "60000/60000 [==============================] - 2s 30us/step - loss: 0.1258 - acc: 0.8098 - val_loss: 0.1263 - val_acc: 0.8083\n",
      "Epoch 90/100\n",
      "60000/60000 [==============================] - 2s 29us/step - loss: 0.1258 - acc: 0.8098 - val_loss: 0.1285 - val_acc: 0.8062\n",
      "Epoch 91/100\n",
      "60000/60000 [==============================] - 2s 30us/step - loss: 0.1254 - acc: 0.8098 - val_loss: 0.1290 - val_acc: 0.8094\n",
      "Epoch 92/100\n",
      "60000/60000 [==============================] - 2s 30us/step - loss: 0.1254 - acc: 0.8098 - val_loss: 0.1257 - val_acc: 0.8093\n",
      "Epoch 93/100\n",
      "60000/60000 [==============================] - 2s 29us/step - loss: 0.1251 - acc: 0.8099 - val_loss: 0.1311 - val_acc: 0.8048\n",
      "Epoch 94/100\n",
      "60000/60000 [==============================] - 2s 29us/step - loss: 0.1250 - acc: 0.8099 - val_loss: 0.1264 - val_acc: 0.8075\n",
      "Epoch 95/100\n",
      "60000/60000 [==============================] - 2s 29us/step - loss: 0.1247 - acc: 0.8099 - val_loss: 0.1252 - val_acc: 0.8076\n",
      "Epoch 96/100\n",
      "60000/60000 [==============================] - 2s 30us/step - loss: 0.1247 - acc: 0.8099 - val_loss: 0.1263 - val_acc: 0.8099\n",
      "Epoch 97/100\n",
      "60000/60000 [==============================] - 2s 29us/step - loss: 0.1244 - acc: 0.8100 - val_loss: 0.1253 - val_acc: 0.8084\n",
      "Epoch 98/100\n",
      "60000/60000 [==============================] - 2s 30us/step - loss: 0.1242 - acc: 0.8100 - val_loss: 0.1280 - val_acc: 0.8061\n",
      "Epoch 99/100\n",
      "60000/60000 [==============================] - 2s 29us/step - loss: 0.1241 - acc: 0.8100 - val_loss: 0.1244 - val_acc: 0.8096\n",
      "Epoch 100/100\n",
      "60000/60000 [==============================] - 2s 30us/step - loss: 0.1239 - acc: 0.8101 - val_loss: 0.1265 - val_acc: 0.8103\n"
     ]
    },
    {
     "data": {
      "text/plain": [
       "<keras.callbacks.History at 0x1f35d256358>"
      ]
     },
     "execution_count": 10,
     "metadata": {},
     "output_type": "execute_result"
    }
   ],
   "source": [
    "# Fitting the noise trained data to the autoencoder \n",
    "\n",
    "autoencoder.fit(X_train_noisy, X_train,\n",
    "                epochs=100,\n",
    "                batch_size=256,\n",
    "                shuffle=True,\n",
    "                validation_data=(X_test_noisy, X_test))"
   ]
  },
  {
   "cell_type": "code",
   "execution_count": 11,
   "metadata": {},
   "outputs": [],
   "source": [
    "# reconstructing the image from autoencoder and encoder\n",
    "\n",
    "encoded_imgs = encoder.predict(X_test_noisy)      # Creating a encoded value using image\n",
    "predicted = autoencoder.predict(X_test_noisy)     # Using a noisy image to create its clean version\n",
    "decoder_predict = decoder.predict(encoded_imgs)   # Decoded image of encoded value"
   ]
  },
  {
   "cell_type": "code",
   "execution_count": 12,
   "metadata": {},
   "outputs": [
    {
     "data": {
      "image/png": "[encoded data removed]",
      "text/plain": [
       "<Figure size 2880x288 with 40 Axes>"
      ]
     },
     "metadata": {
      "needs_background": "light"
     },
     "output_type": "display_data"
    }
   ],
   "source": [
    "# plotting the noised image, encoded image and the reconstructed image\n",
    "plt.figure(figsize=(40, 4))\n",
    "for i in range(10):\n",
    "# display original images\n",
    "    \n",
    "    ax = plt.subplot(4, 20, i + 1)\n",
    "    plt.imshow(X_test[i].reshape(28, 28))\n",
    "    plt.gray()\n",
    "    ax.get_xaxis().set_visible(False)\n",
    "    ax.get_yaxis().set_visible(False)\n",
    "    \n",
    "# display noised images\n",
    "    ax = plt.subplot(4, 20, i + 1+20)\n",
    "    plt.imshow(X_test_noisy[i].reshape(28, 28))\n",
    "    plt.gray()\n",
    "    ax.get_xaxis().set_visible(False)\n",
    "    ax.get_yaxis().set_visible(False)\n",
    "# display encoded images    \n",
    "    ax = plt.subplot(4, 20, 2*20+i + 1 )\n",
    "    plt.imshow(encoded_imgs[i].reshape(8,4))\n",
    "    plt.gray()\n",
    "    ax.get_xaxis().set_visible(False)\n",
    "    ax.get_yaxis().set_visible(False)\n",
    "# display reconstruction images\n",
    "    ax = plt.subplot(4, 20, 3*20 +i+ 1)\n",
    "    plt.imshow(decoder_predict[i].reshape(28, 28))\n",
    "    plt.gray()\n",
    "    ax.get_xaxis().set_visible(False)\n",
    "    ax.get_yaxis().set_visible(False)\n",
    "    \n",
    "    \n",
    "plt.show()"
   ]
  },
  {
   "cell_type": "code",
   "execution_count": 13,
   "metadata": {},
   "outputs": [
    {
     "name": "stdout",
     "output_type": "stream",
     "text": [
      "Saved model to disk\n"
     ]
    }
   ],
   "source": [
    "# Saving model and weights of autoencoder\n",
    "model_json = autoencoder.to_json()\n",
    "with open(\"noise_removal_autoencoder_model\", \"w\") as json_file:\n",
    "    json_file.write(model_json)\n",
    "# serialize weights to HDF5\n",
    "autoencoder.save_weights(\"noise_removal_autoencoder_model.h5\"),\n",
    "print(\"Saved model to disk\")"
   ]
  },
  {
   "cell_type": "code",
   "execution_count": 14,
   "metadata": {},
   "outputs": [
    {
     "name": "stdout",
     "output_type": "stream",
     "text": [
      "Saved model to disk\n"
     ]
    }
   ],
   "source": [
    "# Saving model and weights of encoder\n",
    "model_json = encoder.to_json()\n",
    "with open(\"noise_removal_model_encoder_only\", \"w\") as json_file:\n",
    "    json_file.write(model_json)\n",
    "# serialize weights to HDF5\n",
    "encoder.save_weights(\"noise_removal_autoencoder_model_encoder_only.h5\"),\n",
    "print(\"Saved model to disk\")"
   ]
  },
  {
   "cell_type": "code",
   "execution_count": 15,
   "metadata": {},
   "outputs": [
    {
     "name": "stdout",
     "output_type": "stream",
     "text": [
      "Saved model to disk\n"
     ]
    }
   ],
   "source": [
    "# Saving model and weights of decoder\n",
    "model_json = decoder.to_json()\n",
    "with open(\"noise_removal_autoencoder_model_decoder_only\", \"w\") as json_file:\n",
    "    json_file.write(model_json)\n",
    "# serialize weights to HDF5\n",
    "decoder.save_weights(\"noise_removal_autoencoder_model_decoder_only.h5\"),\n",
    "print(\"Saved model to disk\")"
   ]
  }
 ],
 "metadata": {
  "kernelspec": {
   "display_name": "Python 3",
   "language": "python",
   "name": "python3"
  },
  "language_info": {
   "codemirror_mode": {
    "name": "ipython",
    "version": 3
   },
   "file_extension": ".py",
   "mimetype": "text/x-python",
   "name": "python",
   "nbconvert_exporter": "python",
   "pygments_lexer": "ipython3",
   "version": "3.6.10"
  }
 },
 "nbformat": 4,
 "nbformat_minor": 4
}
