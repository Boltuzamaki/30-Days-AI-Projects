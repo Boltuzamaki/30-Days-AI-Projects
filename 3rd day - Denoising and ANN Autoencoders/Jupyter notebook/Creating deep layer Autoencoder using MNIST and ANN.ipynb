{
 "cells": [
  {
   "cell_type": "markdown",
   "metadata": {},
   "source": [
    "# Creating deep layer autoencoder using MNIST and ANN"
   ]
  },
  {
   "cell_type": "code",
   "execution_count": 1,
   "metadata": {},
   "outputs": [
    {
     "name": "stderr",
     "output_type": "stream",
     "text": [
      "Using TensorFlow backend.\n",
      "c:\\users\\boltuzamaki\\anaconda3\\envs\\pose\\lib\\site-packages\\tensorflow\\python\\framework\\dtypes.py:523: FutureWarning: Passing (type, 1) or '1type' as a synonym of type is deprecated; in a future version of numpy, it will be understood as (type, (1,)) / '(1,)type'.\n",
      "  _np_qint8 = np.dtype([(\"qint8\", np.int8, 1)])\n",
      "c:\\users\\boltuzamaki\\anaconda3\\envs\\pose\\lib\\site-packages\\tensorflow\\python\\framework\\dtypes.py:524: FutureWarning: Passing (type, 1) or '1type' as a synonym of type is deprecated; in a future version of numpy, it will be understood as (type, (1,)) / '(1,)type'.\n",
      "  _np_quint8 = np.dtype([(\"quint8\", np.uint8, 1)])\n",
      "c:\\users\\boltuzamaki\\anaconda3\\envs\\pose\\lib\\site-packages\\tensorflow\\python\\framework\\dtypes.py:525: FutureWarning: Passing (type, 1) or '1type' as a synonym of type is deprecated; in a future version of numpy, it will be understood as (type, (1,)) / '(1,)type'.\n",
      "  _np_qint16 = np.dtype([(\"qint16\", np.int16, 1)])\n",
      "c:\\users\\boltuzamaki\\anaconda3\\envs\\pose\\lib\\site-packages\\tensorflow\\python\\framework\\dtypes.py:526: FutureWarning: Passing (type, 1) or '1type' as a synonym of type is deprecated; in a future version of numpy, it will be understood as (type, (1,)) / '(1,)type'.\n",
      "  _np_quint16 = np.dtype([(\"quint16\", np.uint16, 1)])\n",
      "c:\\users\\boltuzamaki\\anaconda3\\envs\\pose\\lib\\site-packages\\tensorflow\\python\\framework\\dtypes.py:527: FutureWarning: Passing (type, 1) or '1type' as a synonym of type is deprecated; in a future version of numpy, it will be understood as (type, (1,)) / '(1,)type'.\n",
      "  _np_qint32 = np.dtype([(\"qint32\", np.int32, 1)])\n",
      "c:\\users\\boltuzamaki\\anaconda3\\envs\\pose\\lib\\site-packages\\tensorflow\\python\\framework\\dtypes.py:532: FutureWarning: Passing (type, 1) or '1type' as a synonym of type is deprecated; in a future version of numpy, it will be understood as (type, (1,)) / '(1,)type'.\n",
      "  np_resource = np.dtype([(\"resource\", np.ubyte, 1)])\n"
     ]
    }
   ],
   "source": [
    "from keras.datasets import mnist\n",
    "from keras.layers import Input, Dense\n",
    "from keras.models import Model\n",
    "import numpy as np\n",
    "import pandas as pd\n",
    "import matplotlib.pyplot as plt\n",
    "%matplotlib inline"
   ]
  },
  {
   "cell_type": "code",
   "execution_count": 2,
   "metadata": {},
   "outputs": [
    {
     "name": "stdout",
     "output_type": "stream",
     "text": [
      "(60000, 784)\n",
      "(10000, 784)\n"
     ]
    }
   ],
   "source": [
    "# Preprocessing/ reshaping input images\n",
    "\n",
    "(X_train, _), (X_test, _) = mnist.load_data()              # Load mnist data\n",
    "\n",
    "X_train = X_train.astype('float32')/255                    # Normalize mnist data\n",
    "X_test = X_test.astype('float32')/255\n",
    "\n",
    "X_train = X_train.reshape(len(X_train), np.prod(X_train.shape[1:])) # Reshaping image to 1-D\n",
    "X_test = X_test.reshape(len(X_test), np.prod(X_test.shape[1:]))\n",
    "\n",
    "print(X_train.shape)\n",
    "print(X_test.shape)"
   ]
  },
  {
   "cell_type": "code",
   "execution_count": 3,
   "metadata": {},
   "outputs": [
    {
     "data": {
      "text/plain": [
       "TensorShape([Dimension(None), Dimension(784)])"
      ]
     },
     "execution_count": 3,
     "metadata": {},
     "output_type": "execute_result"
    }
   ],
   "source": [
    "input_img= Input(shape=(784,))     # Converting to input image into keras tensor\n",
    "input_img.shape"
   ]
  },
  {
   "cell_type": "code",
   "execution_count": 4,
   "metadata": {},
   "outputs": [],
   "source": [
    "layer1 = Dense(units = 128, activation = 'relu')(input_img)        # encoder layers\n",
    "layer2 = Dense(units = 64, activation = 'relu')(layer1)\n",
    "layer3 =  Dense(units = 32, activation = 'relu')(layer2)        # We find Encodings here\n",
    "layer4 = Dense(units = 64, activation = 'relu')(layer3)          # Decoder layers\n",
    "layer5 = Dense(units = 128, activation = 'relu')(layer4)\n",
    "final_layer =Dense(units = 784, activation = 'sigmoid')(layer5)   ## decoded image"
   ]
  },
  {
   "cell_type": "code",
   "execution_count": 5,
   "metadata": {},
   "outputs": [],
   "source": [
    "autoencoder = Model(input_img, final_layer)      # Creating autoencoder model"
   ]
  },
  {
   "cell_type": "code",
   "execution_count": 6,
   "metadata": {},
   "outputs": [
    {
     "name": "stdout",
     "output_type": "stream",
     "text": [
      "_________________________________________________________________\n",
      "Layer (type)                 Output Shape              Param #   \n",
      "=================================================================\n",
      "input_1 (InputLayer)         (None, 784)               0         \n",
      "_________________________________________________________________\n",
      "dense_1 (Dense)              (None, 128)               100480    \n",
      "_________________________________________________________________\n",
      "dense_2 (Dense)              (None, 64)                8256      \n",
      "_________________________________________________________________\n",
      "dense_3 (Dense)              (None, 32)                2080      \n",
      "_________________________________________________________________\n",
      "dense_4 (Dense)              (None, 64)                2112      \n",
      "_________________________________________________________________\n",
      "dense_5 (Dense)              (None, 128)               8320      \n",
      "_________________________________________________________________\n",
      "dense_6 (Dense)              (None, 784)               101136    \n",
      "=================================================================\n",
      "Total params: 222,384\n",
      "Trainable params: 222,384\n",
      "Non-trainable params: 0\n",
      "_________________________________________________________________\n"
     ]
    }
   ],
   "source": [
    "autoencoder.summary()"
   ]
  },
  {
   "cell_type": "code",
   "execution_count": 7,
   "metadata": {},
   "outputs": [],
   "source": [
    "encoder = Model(input_img, layer3)                     # Creating encoder model"
   ]
  },
  {
   "cell_type": "code",
   "execution_count": 8,
   "metadata": {},
   "outputs": [
    {
     "name": "stdout",
     "output_type": "stream",
     "text": [
      "_________________________________________________________________\n",
      "Layer (type)                 Output Shape              Param #   \n",
      "=================================================================\n",
      "input_1 (InputLayer)         (None, 784)               0         \n",
      "_________________________________________________________________\n",
      "dense_1 (Dense)              (None, 128)               100480    \n",
      "_________________________________________________________________\n",
      "dense_2 (Dense)              (None, 64)                8256      \n",
      "_________________________________________________________________\n",
      "dense_3 (Dense)              (None, 32)                2080      \n",
      "=================================================================\n",
      "Total params: 110,816\n",
      "Trainable params: 110,816\n",
      "Non-trainable params: 0\n",
      "_________________________________________________________________\n"
     ]
    }
   ],
   "source": [
    "encoder.summary()"
   ]
  },
  {
   "cell_type": "code",
   "execution_count": 9,
   "metadata": {},
   "outputs": [],
   "source": [
    "# Creating decoder separately\n",
    "\n",
    "encoded_input = Input(shape=(32,))\n",
    "decoder_layer3 = autoencoder.layers[-3](encoded_input)\n",
    "decoder_layer2 = autoencoder.layers[-2](decoder_layer3)\n",
    "decoder_layer1 = autoencoder.layers[-1](decoder_layer2) "
   ]
  },
  {
   "cell_type": "code",
   "execution_count": 10,
   "metadata": {},
   "outputs": [],
   "source": [
    "decoder = Model(encoded_input, decoder_layer1)"
   ]
  },
  {
   "cell_type": "code",
   "execution_count": 11,
   "metadata": {},
   "outputs": [
    {
     "name": "stdout",
     "output_type": "stream",
     "text": [
      "_________________________________________________________________\n",
      "Layer (type)                 Output Shape              Param #   \n",
      "=================================================================\n",
      "input_2 (InputLayer)         (None, 32)                0         \n",
      "_________________________________________________________________\n",
      "dense_4 (Dense)              (None, 64)                2112      \n",
      "_________________________________________________________________\n",
      "dense_5 (Dense)              (None, 128)               8320      \n",
      "_________________________________________________________________\n",
      "dense_6 (Dense)              (None, 784)               101136    \n",
      "=================================================================\n",
      "Total params: 111,568\n",
      "Trainable params: 111,568\n",
      "Non-trainable params: 0\n",
      "_________________________________________________________________\n"
     ]
    }
   ],
   "source": [
    "decoder.summary()"
   ]
  },
  {
   "cell_type": "code",
   "execution_count": 12,
   "metadata": {},
   "outputs": [],
   "source": [
    "# Compile the mdoel\n",
    "autoencoder.compile(optimizer='adam', loss='binary_crossentropy', metrics=['accuracy'])"
   ]
  },
  {
   "cell_type": "code",
   "execution_count": 13,
   "metadata": {},
   "outputs": [
    {
     "name": "stdout",
     "output_type": "stream",
     "text": [
      "Train on 60000 samples, validate on 10000 samples\n",
      "Epoch 1/50\n",
      "60000/60000 [==============================] - 10s 160us/step - loss: 0.2489 - acc: 0.7841 - val_loss: 0.1684 - val_acc: 0.8001\n",
      "Epoch 2/50\n",
      "60000/60000 [==============================] - 1s 24us/step - loss: 0.1518 - acc: 0.8047 - val_loss: 0.1387 - val_acc: 0.8060\n",
      "Epoch 3/50\n",
      "60000/60000 [==============================] - 1s 25us/step - loss: 0.1333 - acc: 0.8083 - val_loss: 0.1256 - val_acc: 0.8082\n",
      "Epoch 4/50\n",
      "60000/60000 [==============================] - 1s 24us/step - loss: 0.1237 - acc: 0.8098 - val_loss: 0.1193 - val_acc: 0.8100\n",
      "Epoch 5/50\n",
      "60000/60000 [==============================] - 1s 25us/step - loss: 0.1177 - acc: 0.8108 - val_loss: 0.1132 - val_acc: 0.8099\n",
      "Epoch 6/50\n",
      "60000/60000 [==============================] - 1s 25us/step - loss: 0.1126 - acc: 0.8115 - val_loss: 0.1090 - val_acc: 0.8109\n",
      "Epoch 7/50\n",
      "60000/60000 [==============================] - 2s 26us/step - loss: 0.1090 - acc: 0.8120 - val_loss: 0.1060 - val_acc: 0.8116\n",
      "Epoch 8/50\n",
      "60000/60000 [==============================] - 1s 25us/step - loss: 0.1060 - acc: 0.8124 - val_loss: 0.1039 - val_acc: 0.8120\n",
      "Epoch 9/50\n",
      "60000/60000 [==============================] - 1s 25us/step - loss: 0.1041 - acc: 0.8126 - val_loss: 0.1020 - val_acc: 0.8119\n",
      "Epoch 10/50\n",
      "60000/60000 [==============================] - 1s 25us/step - loss: 0.1025 - acc: 0.8128 - val_loss: 0.1006 - val_acc: 0.8120\n",
      "Epoch 11/50\n",
      "60000/60000 [==============================] - 2s 25us/step - loss: 0.1012 - acc: 0.8130 - val_loss: 0.0992 - val_acc: 0.8122\n",
      "Epoch 12/50\n",
      "60000/60000 [==============================] - 2s 25us/step - loss: 0.1000 - acc: 0.8131 - val_loss: 0.0986 - val_acc: 0.8126\n",
      "Epoch 13/50\n",
      "60000/60000 [==============================] - 2s 26us/step - loss: 0.0990 - acc: 0.8132 - val_loss: 0.0973 - val_acc: 0.8124\n",
      "Epoch 14/50\n",
      "60000/60000 [==============================] - 2s 27us/step - loss: 0.0980 - acc: 0.8133 - val_loss: 0.0963 - val_acc: 0.8126\n",
      "Epoch 15/50\n",
      "60000/60000 [==============================] - 2s 27us/step - loss: 0.0970 - acc: 0.8134 - val_loss: 0.0954 - val_acc: 0.8126\n",
      "Epoch 16/50\n",
      "60000/60000 [==============================] - 2s 26us/step - loss: 0.0962 - acc: 0.8135 - val_loss: 0.0953 - val_acc: 0.8123\n",
      "Epoch 17/50\n",
      "60000/60000 [==============================] - ETA: 0s - loss: 0.0955 - acc: 0.813 - 2s 25us/step - loss: 0.0955 - acc: 0.8136 - val_loss: 0.0941 - val_acc: 0.8126\n",
      "Epoch 18/50\n",
      "60000/60000 [==============================] - 2s 26us/step - loss: 0.0948 - acc: 0.8137 - val_loss: 0.0936 - val_acc: 0.8127\n",
      "Epoch 19/50\n",
      "60000/60000 [==============================] - 2s 26us/step - loss: 0.0942 - acc: 0.8137 - val_loss: 0.0935 - val_acc: 0.8126\n",
      "Epoch 20/50\n",
      "60000/60000 [==============================] - 1s 25us/step - loss: 0.0937 - acc: 0.8138 - val_loss: 0.0928 - val_acc: 0.8130\n",
      "Epoch 21/50\n",
      "60000/60000 [==============================] - 1s 25us/step - loss: 0.0931 - acc: 0.8138 - val_loss: 0.0923 - val_acc: 0.8129\n",
      "Epoch 22/50\n",
      "60000/60000 [==============================] - 2s 25us/step - loss: 0.0927 - acc: 0.8139 - val_loss: 0.0922 - val_acc: 0.8126\n",
      "Epoch 23/50\n",
      "60000/60000 [==============================] - 2s 26us/step - loss: 0.0921 - acc: 0.8139 - val_loss: 0.0910 - val_acc: 0.8131\n",
      "Epoch 24/50\n",
      "60000/60000 [==============================] - 2s 28us/step - loss: 0.0916 - acc: 0.8140 - val_loss: 0.0906 - val_acc: 0.8132\n",
      "Epoch 25/50\n",
      "60000/60000 [==============================] - 2s 28us/step - loss: 0.0912 - acc: 0.8140 - val_loss: 0.0901 - val_acc: 0.8130\n",
      "Epoch 26/50\n",
      "60000/60000 [==============================] - 1s 25us/step - loss: 0.0906 - acc: 0.8141 - val_loss: 0.0898 - val_acc: 0.8132\n",
      "Epoch 27/50\n",
      "60000/60000 [==============================] - 2s 26us/step - loss: 0.0903 - acc: 0.8141 - val_loss: 0.0893 - val_acc: 0.8132\n",
      "Epoch 28/50\n",
      "60000/60000 [==============================] - 2s 26us/step - loss: 0.0898 - acc: 0.8141 - val_loss: 0.0890 - val_acc: 0.8132\n",
      "Epoch 29/50\n",
      "60000/60000 [==============================] - 2s 26us/step - loss: 0.0895 - acc: 0.8142 - val_loss: 0.0889 - val_acc: 0.8132\n",
      "Epoch 30/50\n",
      "60000/60000 [==============================] - 2s 26us/step - loss: 0.0892 - acc: 0.8142 - val_loss: 0.0886 - val_acc: 0.8134\n",
      "Epoch 31/50\n",
      "60000/60000 [==============================] - 2s 29us/step - loss: 0.0890 - acc: 0.8142 - val_loss: 0.0881 - val_acc: 0.8132\n",
      "Epoch 32/50\n",
      "60000/60000 [==============================] - 2s 27us/step - loss: 0.0887 - acc: 0.8142 - val_loss: 0.0878 - val_acc: 0.8133\n",
      "Epoch 33/50\n",
      "60000/60000 [==============================] - 1s 25us/step - loss: 0.0884 - acc: 0.8143 - val_loss: 0.0875 - val_acc: 0.8133\n",
      "Epoch 34/50\n",
      "60000/60000 [==============================] - 1s 25us/step - loss: 0.0883 - acc: 0.8143 - val_loss: 0.0875 - val_acc: 0.8134\n",
      "Epoch 35/50\n",
      "60000/60000 [==============================] - 1s 24us/step - loss: 0.0880 - acc: 0.8143 - val_loss: 0.0876 - val_acc: 0.8133\n",
      "Epoch 36/50\n",
      "60000/60000 [==============================] - 1s 24us/step - loss: 0.0879 - acc: 0.8143 - val_loss: 0.0870 - val_acc: 0.8133\n",
      "Epoch 37/50\n",
      "60000/60000 [==============================] - 1s 24us/step - loss: 0.0877 - acc: 0.8143 - val_loss: 0.0869 - val_acc: 0.8133\n",
      "Epoch 38/50\n",
      "60000/60000 [==============================] - 1s 24us/step - loss: 0.0875 - acc: 0.8143 - val_loss: 0.0870 - val_acc: 0.8134\n",
      "Epoch 39/50\n",
      "60000/60000 [==============================] - 1s 24us/step - loss: 0.0874 - acc: 0.8143 - val_loss: 0.0867 - val_acc: 0.8134\n",
      "Epoch 40/50\n",
      "60000/60000 [==============================] - 1s 24us/step - loss: 0.0872 - acc: 0.8143 - val_loss: 0.0864 - val_acc: 0.8134\n",
      "Epoch 41/50\n",
      "60000/60000 [==============================] - 1s 24us/step - loss: 0.0871 - acc: 0.8143 - val_loss: 0.0867 - val_acc: 0.8133\n",
      "Epoch 42/50\n",
      "60000/60000 [==============================] - 1s 24us/step - loss: 0.0869 - acc: 0.8144 - val_loss: 0.0865 - val_acc: 0.8133\n",
      "Epoch 43/50\n",
      "60000/60000 [==============================] - 1s 24us/step - loss: 0.0868 - acc: 0.8144 - val_loss: 0.0863 - val_acc: 0.8134\n",
      "Epoch 44/50\n",
      "60000/60000 [==============================] - 1s 24us/step - loss: 0.0867 - acc: 0.8144 - val_loss: 0.0863 - val_acc: 0.8133\n",
      "Epoch 45/50\n",
      "60000/60000 [==============================] - 1s 24us/step - loss: 0.0866 - acc: 0.8144 - val_loss: 0.0858 - val_acc: 0.8134\n",
      "Epoch 46/50\n",
      "60000/60000 [==============================] - 1s 24us/step - loss: 0.0865 - acc: 0.8144 - val_loss: 0.0859 - val_acc: 0.8135\n",
      "Epoch 47/50\n",
      "60000/60000 [==============================] - 1s 25us/step - loss: 0.0863 - acc: 0.8144 - val_loss: 0.0859 - val_acc: 0.8135\n",
      "Epoch 48/50\n",
      "60000/60000 [==============================] - 1s 24us/step - loss: 0.0862 - acc: 0.8144 - val_loss: 0.0860 - val_acc: 0.8134\n",
      "Epoch 49/50\n",
      "60000/60000 [==============================] - 1s 24us/step - loss: 0.0861 - acc: 0.8144 - val_loss: 0.0858 - val_acc: 0.8135\n",
      "Epoch 50/50\n",
      "60000/60000 [==============================] - 1s 24us/step - loss: 0.0860 - acc: 0.8144 - val_loss: 0.0856 - val_acc: 0.8135\n"
     ]
    },
    {
     "data": {
      "text/plain": [
       "<keras.callbacks.History at 0x19fe8531fd0>"
      ]
     },
     "execution_count": 13,
     "metadata": {},
     "output_type": "execute_result"
    }
   ],
   "source": [
    "# Train the model\n",
    "autoencoder.fit(X_train, X_train,\n",
    "                epochs=50,\n",
    "                batch_size=256,\n",
    "                shuffle=True,\n",
    "                validation_data=(X_test, X_test))"
   ]
  },
  {
   "cell_type": "code",
   "execution_count": 14,
   "metadata": {},
   "outputs": [
    {
     "name": "stdout",
     "output_type": "stream",
     "text": [
      "Saved model to disk\n"
     ]
    }
   ],
   "source": [
    "# Saving model and weights of autoencoder\n",
    "model_json = autoencoder.to_json()\n",
    "with open(\"deep_autoencoder_model\", \"w\") as json_file:\n",
    "    json_file.write(model_json)\n",
    "# serialize weights to HDF5\n",
    "autoencoder.save_weights(\"deep_autoencoder_model.h5\"),\n",
    "print(\"Saved model to disk\")"
   ]
  },
  {
   "cell_type": "code",
   "execution_count": 15,
   "metadata": {},
   "outputs": [
    {
     "name": "stdout",
     "output_type": "stream",
     "text": [
      "Saved model to disk\n"
     ]
    }
   ],
   "source": [
    "# Saving model and weights of encoder\n",
    "model_json = encoder.to_json()\n",
    "with open(\"deep_autoencoder_model_encoder_only\", \"w\") as json_file:\n",
    "    json_file.write(model_json)\n",
    "# serialize weights to HDF5\n",
    "encoder.save_weights(\"deep_autoencoder_model_encoder_only.h5\"),\n",
    "print(\"Saved model to disk\")"
   ]
  },
  {
   "cell_type": "code",
   "execution_count": 16,
   "metadata": {},
   "outputs": [
    {
     "name": "stdout",
     "output_type": "stream",
     "text": [
      "Saved model to disk\n"
     ]
    }
   ],
   "source": [
    "# Saving model and weights of decoder\n",
    "model_json = decoder.to_json()\n",
    "with open(\"deep_autoencoder_model_decoder_only\", \"w\") as json_file:\n",
    "    json_file.write(model_json)\n",
    "# serialize weights to HDF5\n",
    "decoder.save_weights(\"deep_autoencoder_model_decoder_only.h5\"),\n",
    "print(\"Saved model to disk\")"
   ]
  },
  {
   "cell_type": "code",
   "execution_count": 17,
   "metadata": {},
   "outputs": [],
   "source": [
    "encoded_imgs = encoder.predict(X_test)                 # Here the image is converted into encoded vector\n",
    "predicted = autoencoder.predict(X_test)                # The autoencoder taking real image and produce a image\n",
    "decoder_predict = decoder.predict(encoded_imgs)        # The decoder producing image using encoded vector"
   ]
  },
  {
   "cell_type": "code",
   "execution_count": 18,
   "metadata": {},
   "outputs": [
    {
     "data": {
      "image/png": "[encoded data removed]",
      "text/plain": [
       "<Figure size 2880x288 with 30 Axes>"
      ]
     },
     "metadata": {
      "needs_background": "light"
     },
     "output_type": "display_data"
    }
   ],
   "source": [
    "# Plotting figure \n",
    "\n",
    "plt.figure(figsize=(40, 4))\n",
    "for i in range(10):\n",
    "    # display original\n",
    "    ax = plt.subplot(3, 20, i + 1)\n",
    "    plt.imshow(X_test[i].reshape(28, 28))\n",
    "    plt.gray()\n",
    "    ax.get_xaxis().set_visible(False)\n",
    "    ax.get_yaxis().set_visible(False)\n",
    "    \n",
    "    # display encoded image\n",
    "    ax = plt.subplot(3, 20, i + 1 + 20)\n",
    "    plt.imshow(encoded_imgs[i].reshape(8,4))\n",
    "    plt.gray()\n",
    "    ax.get_xaxis().set_visible(False)\n",
    "    ax.get_yaxis().set_visible(False)\n",
    "    # display reconstruction\n",
    "    ax = plt.subplot(3, 20, 2*20 +i+ 1)\n",
    "    plt.imshow(decoder_predict[i].reshape(28, 28))\n",
    "    plt.gray()\n",
    "    ax.get_xaxis().set_visible(False)\n",
    "    ax.get_yaxis().set_visible(False)\n",
    "    \n",
    "    \n",
    "plt.show()\n",
    "\n",
    "# The first one is real image\n",
    "# Sencond one is the encoded value\n",
    "# This one is the image created by encoded vector"
   ]
  }
 ],
 "metadata": {
  "kernelspec": {
   "display_name": "Python 3",
   "language": "python",
   "name": "python3"
  },
  "language_info": {
   "codemirror_mode": {
    "name": "ipython",
    "version": 3
   },
   "file_extension": ".py",
   "mimetype": "text/x-python",
   "name": "python",
   "nbconvert_exporter": "python",
   "pygments_lexer": "ipython3",
   "version": "3.6.10"
  }
 },
 "nbformat": 4,
 "nbformat_minor": 4
}
